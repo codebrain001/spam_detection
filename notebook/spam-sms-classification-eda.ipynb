{
 "cells": [
  {
   "cell_type": "code",
   "execution_count": 1,
   "metadata": {
    "ExecuteTime": {
     "end_time": "2020-02-01T09:58:13.604119Z",
     "start_time": "2020-02-01T09:58:12.994124Z"
    },
    "_cell_guid": "b1076dfc-b9ad-4769-8c92-a6c4dae69d19",
    "_uuid": "8f2839f25d086af736a60e9eeb907d3b93b6e0e5"
   },
   "outputs": [],
   "source": [
    "# This Python 3 environment comes with many helpful analytics libraries installed\n",
    "# It is defined by the kaggle/python docker image: https://github.com/kaggle/docker-python\n",
    "# For example, here's several helpful packages to load in \n",
    "\n",
    "import numpy as np # linear algebra\n",
    "import pandas as pd # data processing, CSV file I/O (e.g. pd.read_csv)\n",
    "\n",
    "# Input data files are available in the \"../input/\" directory.\n",
    "# For example, running this (by clicking run or pressing Shift+Enter) will list all files under the input directory\n",
    "\n",
    "import os\n",
    "for dirname, _, filenames in os.walk('/kaggle/input'):\n",
    "    for filename in filenames:\n",
    "        print(os.path.join(dirname, filename))\n",
    "\n",
    "# Any results you write to the current directory are saved as output."
   ]
  },
  {
   "cell_type": "markdown",
   "metadata": {},
   "source": [
    "## 1.) Import packages"
   ]
  },
  {
   "cell_type": "code",
   "execution_count": 2,
   "metadata": {
    "ExecuteTime": {
     "end_time": "2020-02-01T09:58:15.439212Z",
     "start_time": "2020-02-01T09:58:14.593276Z"
    }
   },
   "outputs": [],
   "source": [
    "import pandas as pd\n",
    "import numpy as np\n",
    "import matplotlib as mpl\n",
    "import matplotlib.pyplot as plt\n",
    "import seaborn as sns\n",
    "import warnings\n",
    "warnings.filterwarnings('ignore')"
   ]
  },
  {
   "cell_type": "markdown",
   "metadata": {},
   "source": [
    "## 2.) Load the dataset "
   ]
  },
  {
   "cell_type": "code",
   "execution_count": 3,
   "metadata": {
    "ExecuteTime": {
     "end_time": "2020-02-01T09:58:15.458219Z",
     "start_time": "2020-02-01T09:58:15.441206Z"
    },
    "_cell_guid": "",
    "_uuid": ""
   },
   "outputs": [
    {
     "ename": "FileNotFoundError",
     "evalue": "[Errno 2] File /kaggle/input/spam-sms-classification/TrainDataset.csv does not exist: '/kaggle/input/spam-sms-classification/TrainDataset.csv'",
     "output_type": "error",
     "traceback": [
      "\u001b[0;31m---------------------------------------------------------------------------\u001b[0m",
      "\u001b[0;31mFileNotFoundError\u001b[0m                         Traceback (most recent call last)",
      "\u001b[0;32m<ipython-input-3-cdc36a74ba09>\u001b[0m in \u001b[0;36m<module>\u001b[0;34m\u001b[0m\n\u001b[0;32m----> 1\u001b[0;31m \u001b[0mdf_train\u001b[0m \u001b[0;34m=\u001b[0m \u001b[0mpd\u001b[0m\u001b[0;34m.\u001b[0m\u001b[0mread_csv\u001b[0m\u001b[0;34m(\u001b[0m\u001b[0;34m\"/kaggle/input/spam-sms-classification/TrainDataset.csv\"\u001b[0m\u001b[0;34m)\u001b[0m\u001b[0;34m\u001b[0m\u001b[0;34m\u001b[0m\u001b[0m\n\u001b[0m\u001b[1;32m      2\u001b[0m \u001b[0mdf_test\u001b[0m \u001b[0;34m=\u001b[0m \u001b[0mpd\u001b[0m\u001b[0;34m.\u001b[0m\u001b[0mread_csv\u001b[0m\u001b[0;34m(\u001b[0m\u001b[0;34m\"/kaggle/input/spam-sms-classification/TestDataset.csv\"\u001b[0m\u001b[0;34m)\u001b[0m\u001b[0;34m\u001b[0m\u001b[0;34m\u001b[0m\u001b[0m\n",
      "\u001b[0;32m/opt/anaconda3/lib/python3.7/site-packages/pandas/io/parsers.py\u001b[0m in \u001b[0;36mparser_f\u001b[0;34m(filepath_or_buffer, sep, delimiter, header, names, index_col, usecols, squeeze, prefix, mangle_dupe_cols, dtype, engine, converters, true_values, false_values, skipinitialspace, skiprows, skipfooter, nrows, na_values, keep_default_na, na_filter, verbose, skip_blank_lines, parse_dates, infer_datetime_format, keep_date_col, date_parser, dayfirst, cache_dates, iterator, chunksize, compression, thousands, decimal, lineterminator, quotechar, quoting, doublequote, escapechar, comment, encoding, dialect, error_bad_lines, warn_bad_lines, delim_whitespace, low_memory, memory_map, float_precision)\u001b[0m\n\u001b[1;32m    674\u001b[0m         )\n\u001b[1;32m    675\u001b[0m \u001b[0;34m\u001b[0m\u001b[0m\n\u001b[0;32m--> 676\u001b[0;31m         \u001b[0;32mreturn\u001b[0m \u001b[0m_read\u001b[0m\u001b[0;34m(\u001b[0m\u001b[0mfilepath_or_buffer\u001b[0m\u001b[0;34m,\u001b[0m \u001b[0mkwds\u001b[0m\u001b[0;34m)\u001b[0m\u001b[0;34m\u001b[0m\u001b[0;34m\u001b[0m\u001b[0m\n\u001b[0m\u001b[1;32m    677\u001b[0m \u001b[0;34m\u001b[0m\u001b[0m\n\u001b[1;32m    678\u001b[0m     \u001b[0mparser_f\u001b[0m\u001b[0;34m.\u001b[0m\u001b[0m__name__\u001b[0m \u001b[0;34m=\u001b[0m \u001b[0mname\u001b[0m\u001b[0;34m\u001b[0m\u001b[0;34m\u001b[0m\u001b[0m\n",
      "\u001b[0;32m/opt/anaconda3/lib/python3.7/site-packages/pandas/io/parsers.py\u001b[0m in \u001b[0;36m_read\u001b[0;34m(filepath_or_buffer, kwds)\u001b[0m\n\u001b[1;32m    446\u001b[0m \u001b[0;34m\u001b[0m\u001b[0m\n\u001b[1;32m    447\u001b[0m     \u001b[0;31m# Create the parser.\u001b[0m\u001b[0;34m\u001b[0m\u001b[0;34m\u001b[0m\u001b[0;34m\u001b[0m\u001b[0m\n\u001b[0;32m--> 448\u001b[0;31m     \u001b[0mparser\u001b[0m \u001b[0;34m=\u001b[0m \u001b[0mTextFileReader\u001b[0m\u001b[0;34m(\u001b[0m\u001b[0mfp_or_buf\u001b[0m\u001b[0;34m,\u001b[0m \u001b[0;34m**\u001b[0m\u001b[0mkwds\u001b[0m\u001b[0;34m)\u001b[0m\u001b[0;34m\u001b[0m\u001b[0;34m\u001b[0m\u001b[0m\n\u001b[0m\u001b[1;32m    449\u001b[0m \u001b[0;34m\u001b[0m\u001b[0m\n\u001b[1;32m    450\u001b[0m     \u001b[0;32mif\u001b[0m \u001b[0mchunksize\u001b[0m \u001b[0;32mor\u001b[0m \u001b[0miterator\u001b[0m\u001b[0;34m:\u001b[0m\u001b[0;34m\u001b[0m\u001b[0;34m\u001b[0m\u001b[0m\n",
      "\u001b[0;32m/opt/anaconda3/lib/python3.7/site-packages/pandas/io/parsers.py\u001b[0m in \u001b[0;36m__init__\u001b[0;34m(self, f, engine, **kwds)\u001b[0m\n\u001b[1;32m    878\u001b[0m             \u001b[0mself\u001b[0m\u001b[0;34m.\u001b[0m\u001b[0moptions\u001b[0m\u001b[0;34m[\u001b[0m\u001b[0;34m\"has_index_names\"\u001b[0m\u001b[0;34m]\u001b[0m \u001b[0;34m=\u001b[0m \u001b[0mkwds\u001b[0m\u001b[0;34m[\u001b[0m\u001b[0;34m\"has_index_names\"\u001b[0m\u001b[0;34m]\u001b[0m\u001b[0;34m\u001b[0m\u001b[0;34m\u001b[0m\u001b[0m\n\u001b[1;32m    879\u001b[0m \u001b[0;34m\u001b[0m\u001b[0m\n\u001b[0;32m--> 880\u001b[0;31m         \u001b[0mself\u001b[0m\u001b[0;34m.\u001b[0m\u001b[0m_make_engine\u001b[0m\u001b[0;34m(\u001b[0m\u001b[0mself\u001b[0m\u001b[0;34m.\u001b[0m\u001b[0mengine\u001b[0m\u001b[0;34m)\u001b[0m\u001b[0;34m\u001b[0m\u001b[0;34m\u001b[0m\u001b[0m\n\u001b[0m\u001b[1;32m    881\u001b[0m \u001b[0;34m\u001b[0m\u001b[0m\n\u001b[1;32m    882\u001b[0m     \u001b[0;32mdef\u001b[0m \u001b[0mclose\u001b[0m\u001b[0;34m(\u001b[0m\u001b[0mself\u001b[0m\u001b[0;34m)\u001b[0m\u001b[0;34m:\u001b[0m\u001b[0;34m\u001b[0m\u001b[0;34m\u001b[0m\u001b[0m\n",
      "\u001b[0;32m/opt/anaconda3/lib/python3.7/site-packages/pandas/io/parsers.py\u001b[0m in \u001b[0;36m_make_engine\u001b[0;34m(self, engine)\u001b[0m\n\u001b[1;32m   1112\u001b[0m     \u001b[0;32mdef\u001b[0m \u001b[0m_make_engine\u001b[0m\u001b[0;34m(\u001b[0m\u001b[0mself\u001b[0m\u001b[0;34m,\u001b[0m \u001b[0mengine\u001b[0m\u001b[0;34m=\u001b[0m\u001b[0;34m\"c\"\u001b[0m\u001b[0;34m)\u001b[0m\u001b[0;34m:\u001b[0m\u001b[0;34m\u001b[0m\u001b[0;34m\u001b[0m\u001b[0m\n\u001b[1;32m   1113\u001b[0m         \u001b[0;32mif\u001b[0m \u001b[0mengine\u001b[0m \u001b[0;34m==\u001b[0m \u001b[0;34m\"c\"\u001b[0m\u001b[0;34m:\u001b[0m\u001b[0;34m\u001b[0m\u001b[0;34m\u001b[0m\u001b[0m\n\u001b[0;32m-> 1114\u001b[0;31m             \u001b[0mself\u001b[0m\u001b[0;34m.\u001b[0m\u001b[0m_engine\u001b[0m \u001b[0;34m=\u001b[0m \u001b[0mCParserWrapper\u001b[0m\u001b[0;34m(\u001b[0m\u001b[0mself\u001b[0m\u001b[0;34m.\u001b[0m\u001b[0mf\u001b[0m\u001b[0;34m,\u001b[0m \u001b[0;34m**\u001b[0m\u001b[0mself\u001b[0m\u001b[0;34m.\u001b[0m\u001b[0moptions\u001b[0m\u001b[0;34m)\u001b[0m\u001b[0;34m\u001b[0m\u001b[0;34m\u001b[0m\u001b[0m\n\u001b[0m\u001b[1;32m   1115\u001b[0m         \u001b[0;32melse\u001b[0m\u001b[0;34m:\u001b[0m\u001b[0;34m\u001b[0m\u001b[0;34m\u001b[0m\u001b[0m\n\u001b[1;32m   1116\u001b[0m             \u001b[0;32mif\u001b[0m \u001b[0mengine\u001b[0m \u001b[0;34m==\u001b[0m \u001b[0;34m\"python\"\u001b[0m\u001b[0;34m:\u001b[0m\u001b[0;34m\u001b[0m\u001b[0;34m\u001b[0m\u001b[0m\n",
      "\u001b[0;32m/opt/anaconda3/lib/python3.7/site-packages/pandas/io/parsers.py\u001b[0m in \u001b[0;36m__init__\u001b[0;34m(self, src, **kwds)\u001b[0m\n\u001b[1;32m   1889\u001b[0m         \u001b[0mkwds\u001b[0m\u001b[0;34m[\u001b[0m\u001b[0;34m\"usecols\"\u001b[0m\u001b[0;34m]\u001b[0m \u001b[0;34m=\u001b[0m \u001b[0mself\u001b[0m\u001b[0;34m.\u001b[0m\u001b[0musecols\u001b[0m\u001b[0;34m\u001b[0m\u001b[0;34m\u001b[0m\u001b[0m\n\u001b[1;32m   1890\u001b[0m \u001b[0;34m\u001b[0m\u001b[0m\n\u001b[0;32m-> 1891\u001b[0;31m         \u001b[0mself\u001b[0m\u001b[0;34m.\u001b[0m\u001b[0m_reader\u001b[0m \u001b[0;34m=\u001b[0m \u001b[0mparsers\u001b[0m\u001b[0;34m.\u001b[0m\u001b[0mTextReader\u001b[0m\u001b[0;34m(\u001b[0m\u001b[0msrc\u001b[0m\u001b[0;34m,\u001b[0m \u001b[0;34m**\u001b[0m\u001b[0mkwds\u001b[0m\u001b[0;34m)\u001b[0m\u001b[0;34m\u001b[0m\u001b[0;34m\u001b[0m\u001b[0m\n\u001b[0m\u001b[1;32m   1892\u001b[0m         \u001b[0mself\u001b[0m\u001b[0;34m.\u001b[0m\u001b[0munnamed_cols\u001b[0m \u001b[0;34m=\u001b[0m \u001b[0mself\u001b[0m\u001b[0;34m.\u001b[0m\u001b[0m_reader\u001b[0m\u001b[0;34m.\u001b[0m\u001b[0munnamed_cols\u001b[0m\u001b[0;34m\u001b[0m\u001b[0;34m\u001b[0m\u001b[0m\n\u001b[1;32m   1893\u001b[0m \u001b[0;34m\u001b[0m\u001b[0m\n",
      "\u001b[0;32mpandas/_libs/parsers.pyx\u001b[0m in \u001b[0;36mpandas._libs.parsers.TextReader.__cinit__\u001b[0;34m()\u001b[0m\n",
      "\u001b[0;32mpandas/_libs/parsers.pyx\u001b[0m in \u001b[0;36mpandas._libs.parsers.TextReader._setup_parser_source\u001b[0;34m()\u001b[0m\n",
      "\u001b[0;31mFileNotFoundError\u001b[0m: [Errno 2] File /kaggle/input/spam-sms-classification/TrainDataset.csv does not exist: '/kaggle/input/spam-sms-classification/TrainDataset.csv'"
     ]
    }
   ],
   "source": [
    "df_train = pd.read_csv(\"/kaggle/input/spam-sms-classification/TrainDataset.csv\")\n",
    "df_test = pd.read_csv(\"/kaggle/input/spam-sms-classification/TestDataset.csv\")"
   ]
  },
  {
   "cell_type": "code",
   "execution_count": 4,
   "metadata": {
    "ExecuteTime": {
     "end_time": "2020-02-01T09:58:15.676995Z",
     "start_time": "2020-02-01T09:58:15.673993Z"
    }
   },
   "outputs": [],
   "source": [
    "train = df_train\n",
    "test = df_test"
   ]
  },
  {
   "cell_type": "code",
   "execution_count": 5,
   "metadata": {
    "ExecuteTime": {
     "end_time": "2020-02-01T09:58:16.013536Z",
     "start_time": "2020-02-01T09:58:16.002528Z"
    }
   },
   "outputs": [
    {
     "data": {
      "text/html": [
       "<div>\n",
       "<style scoped>\n",
       "    .dataframe tbody tr th:only-of-type {\n",
       "        vertical-align: middle;\n",
       "    }\n",
       "\n",
       "    .dataframe tbody tr th {\n",
       "        vertical-align: top;\n",
       "    }\n",
       "\n",
       "    .dataframe thead th {\n",
       "        text-align: right;\n",
       "    }\n",
       "</style>\n",
       "<table border=\"1\" class=\"dataframe\">\n",
       "  <thead>\n",
       "    <tr style=\"text-align: right;\">\n",
       "      <th></th>\n",
       "      <th>v1</th>\n",
       "      <th>v2</th>\n",
       "    </tr>\n",
       "  </thead>\n",
       "  <tbody>\n",
       "    <tr>\n",
       "      <th>0</th>\n",
       "      <td>spam</td>\n",
       "      <td>U were outbid by simonwatson5120 on the Shinco...</td>\n",
       "    </tr>\n",
       "    <tr>\n",
       "      <th>1</th>\n",
       "      <td>ham</td>\n",
       "      <td>Do you still have the grinder?</td>\n",
       "    </tr>\n",
       "    <tr>\n",
       "      <th>2</th>\n",
       "      <td>ham</td>\n",
       "      <td>No. Yes please. Been swimming?</td>\n",
       "    </tr>\n",
       "    <tr>\n",
       "      <th>3</th>\n",
       "      <td>ham</td>\n",
       "      <td>No de.am seeing in online shop so that i asked.</td>\n",
       "    </tr>\n",
       "    <tr>\n",
       "      <th>4</th>\n",
       "      <td>ham</td>\n",
       "      <td>Faith makes things possible,Hope makes things ...</td>\n",
       "    </tr>\n",
       "  </tbody>\n",
       "</table>\n",
       "</div>"
      ],
      "text/plain": [
       "     v1                                                 v2\n",
       "0  spam  U were outbid by simonwatson5120 on the Shinco...\n",
       "1   ham                     Do you still have the grinder?\n",
       "2   ham                     No. Yes please. Been swimming?\n",
       "3   ham    No de.am seeing in online shop so that i asked.\n",
       "4   ham  Faith makes things possible,Hope makes things ..."
      ]
     },
     "execution_count": 5,
     "metadata": {},
     "output_type": "execute_result"
    }
   ],
   "source": [
    "df_train.head()"
   ]
  },
  {
   "cell_type": "code",
   "execution_count": 6,
   "metadata": {
    "ExecuteTime": {
     "end_time": "2020-02-01T09:58:16.238062Z",
     "start_time": "2020-02-01T09:58:16.233059Z"
    }
   },
   "outputs": [],
   "source": [
    "df_train = df_train.rename(columns = {'v1':'class_label','v2':'message'})\n",
    "df_test = df_test.rename(columns = {'v2':'message'})"
   ]
  },
  {
   "cell_type": "code",
   "execution_count": 7,
   "metadata": {
    "ExecuteTime": {
     "end_time": "2020-02-01T09:58:16.43263Z",
     "start_time": "2020-02-01T09:58:16.425626Z"
    }
   },
   "outputs": [
    {
     "data": {
      "text/html": [
       "<div>\n",
       "<style scoped>\n",
       "    .dataframe tbody tr th:only-of-type {\n",
       "        vertical-align: middle;\n",
       "    }\n",
       "\n",
       "    .dataframe tbody tr th {\n",
       "        vertical-align: top;\n",
       "    }\n",
       "\n",
       "    .dataframe thead th {\n",
       "        text-align: right;\n",
       "    }\n",
       "</style>\n",
       "<table border=\"1\" class=\"dataframe\">\n",
       "  <thead>\n",
       "    <tr style=\"text-align: right;\">\n",
       "      <th></th>\n",
       "      <th>class_label</th>\n",
       "      <th>message</th>\n",
       "    </tr>\n",
       "  </thead>\n",
       "  <tbody>\n",
       "    <tr>\n",
       "      <th>0</th>\n",
       "      <td>spam</td>\n",
       "      <td>U were outbid by simonwatson5120 on the Shinco...</td>\n",
       "    </tr>\n",
       "    <tr>\n",
       "      <th>1</th>\n",
       "      <td>ham</td>\n",
       "      <td>Do you still have the grinder?</td>\n",
       "    </tr>\n",
       "    <tr>\n",
       "      <th>2</th>\n",
       "      <td>ham</td>\n",
       "      <td>No. Yes please. Been swimming?</td>\n",
       "    </tr>\n",
       "    <tr>\n",
       "      <th>3</th>\n",
       "      <td>ham</td>\n",
       "      <td>No de.am seeing in online shop so that i asked.</td>\n",
       "    </tr>\n",
       "    <tr>\n",
       "      <th>4</th>\n",
       "      <td>ham</td>\n",
       "      <td>Faith makes things possible,Hope makes things ...</td>\n",
       "    </tr>\n",
       "  </tbody>\n",
       "</table>\n",
       "</div>"
      ],
      "text/plain": [
       "  class_label                                            message\n",
       "0        spam  U were outbid by simonwatson5120 on the Shinco...\n",
       "1         ham                     Do you still have the grinder?\n",
       "2         ham                     No. Yes please. Been swimming?\n",
       "3         ham    No de.am seeing in online shop so that i asked.\n",
       "4         ham  Faith makes things possible,Hope makes things ..."
      ]
     },
     "execution_count": 7,
     "metadata": {},
     "output_type": "execute_result"
    }
   ],
   "source": [
    "df_train.head()"
   ]
  },
  {
   "cell_type": "code",
   "execution_count": 8,
   "metadata": {
    "ExecuteTime": {
     "end_time": "2020-02-01T09:58:16.597838Z",
     "start_time": "2020-02-01T09:58:16.593836Z"
    }
   },
   "outputs": [
    {
     "data": {
      "text/plain": [
       "(4457, 2)"
      ]
     },
     "execution_count": 8,
     "metadata": {},
     "output_type": "execute_result"
    }
   ],
   "source": [
    "df_train.shape"
   ]
  },
  {
   "cell_type": "code",
   "execution_count": 9,
   "metadata": {
    "ExecuteTime": {
     "end_time": "2020-02-01T09:58:16.769894Z",
     "start_time": "2020-02-01T09:58:16.763891Z"
    }
   },
   "outputs": [
    {
     "data": {
      "text/html": [
       "<div>\n",
       "<style scoped>\n",
       "    .dataframe tbody tr th:only-of-type {\n",
       "        vertical-align: middle;\n",
       "    }\n",
       "\n",
       "    .dataframe tbody tr th {\n",
       "        vertical-align: top;\n",
       "    }\n",
       "\n",
       "    .dataframe thead th {\n",
       "        text-align: right;\n",
       "    }\n",
       "</style>\n",
       "<table border=\"1\" class=\"dataframe\">\n",
       "  <thead>\n",
       "    <tr style=\"text-align: right;\">\n",
       "      <th></th>\n",
       "      <th>message</th>\n",
       "    </tr>\n",
       "  </thead>\n",
       "  <tbody>\n",
       "    <tr>\n",
       "      <th>0</th>\n",
       "      <td>Prabha..i'm soryda..realy..frm heart i'm sory</td>\n",
       "    </tr>\n",
       "    <tr>\n",
       "      <th>1</th>\n",
       "      <td>Jus chillaxin, what up</td>\n",
       "    </tr>\n",
       "    <tr>\n",
       "      <th>2</th>\n",
       "      <td>Ok no prob. Take ur time.</td>\n",
       "    </tr>\n",
       "    <tr>\n",
       "      <th>3</th>\n",
       "      <td>Congrats! 2 mobile 3G Videophones R yours. cal...</td>\n",
       "    </tr>\n",
       "    <tr>\n",
       "      <th>4</th>\n",
       "      <td>Thankyou so much for the call. I appreciate yo...</td>\n",
       "    </tr>\n",
       "  </tbody>\n",
       "</table>\n",
       "</div>"
      ],
      "text/plain": [
       "                                             message\n",
       "0      Prabha..i'm soryda..realy..frm heart i'm sory\n",
       "1                             Jus chillaxin, what up\n",
       "2                          Ok no prob. Take ur time.\n",
       "3  Congrats! 2 mobile 3G Videophones R yours. cal...\n",
       "4  Thankyou so much for the call. I appreciate yo..."
      ]
     },
     "execution_count": 9,
     "metadata": {},
     "output_type": "execute_result"
    }
   ],
   "source": [
    "df_test.head()"
   ]
  },
  {
   "cell_type": "code",
   "execution_count": 10,
   "metadata": {
    "ExecuteTime": {
     "end_time": "2020-02-01T09:58:16.917992Z",
     "start_time": "2020-02-01T09:58:16.913989Z"
    }
   },
   "outputs": [
    {
     "data": {
      "text/plain": [
       "(1115, 1)"
      ]
     },
     "execution_count": 10,
     "metadata": {},
     "output_type": "execute_result"
    }
   ],
   "source": [
    "df_test.shape"
   ]
  },
  {
   "cell_type": "code",
   "execution_count": 11,
   "metadata": {
    "ExecuteTime": {
     "end_time": "2020-02-01T09:58:17.077517Z",
     "start_time": "2020-02-01T09:58:17.075516Z"
    }
   },
   "outputs": [],
   "source": [
    "class_label = df_train['class_label']"
   ]
  },
  {
   "cell_type": "code",
   "execution_count": 12,
   "metadata": {
    "ExecuteTime": {
     "end_time": "2020-02-01T09:58:17.235693Z",
     "start_time": "2020-02-01T09:58:17.225686Z"
    }
   },
   "outputs": [
    {
     "name": "stdout",
     "output_type": "stream",
     "text": [
      "<class 'pandas.core.frame.DataFrame'>\n",
      "RangeIndex: 4457 entries, 0 to 4456\n",
      "Data columns (total 2 columns):\n",
      "class_label    4457 non-null object\n",
      "message        4457 non-null object\n",
      "dtypes: object(2)\n",
      "memory usage: 69.8+ KB\n"
     ]
    }
   ],
   "source": [
    "df_train.info()"
   ]
  },
  {
   "cell_type": "markdown",
   "metadata": {},
   "source": [
    "## 3.) Exploratory Data Analysis"
   ]
  },
  {
   "cell_type": "code",
   "execution_count": 13,
   "metadata": {
    "ExecuteTime": {
     "end_time": "2020-02-01T09:58:17.552011Z",
     "start_time": "2020-02-01T09:58:17.520991Z"
    }
   },
   "outputs": [
    {
     "data": {
      "text/html": [
       "<div>\n",
       "<style scoped>\n",
       "    .dataframe tbody tr th:only-of-type {\n",
       "        vertical-align: middle;\n",
       "    }\n",
       "\n",
       "    .dataframe tbody tr th {\n",
       "        vertical-align: top;\n",
       "    }\n",
       "\n",
       "    .dataframe thead tr th {\n",
       "        text-align: left;\n",
       "    }\n",
       "\n",
       "    .dataframe thead tr:last-of-type th {\n",
       "        text-align: right;\n",
       "    }\n",
       "</style>\n",
       "<table border=\"1\" class=\"dataframe\">\n",
       "  <thead>\n",
       "    <tr>\n",
       "      <th></th>\n",
       "      <th colspan=\"4\" halign=\"left\">message</th>\n",
       "    </tr>\n",
       "    <tr>\n",
       "      <th></th>\n",
       "      <th>count</th>\n",
       "      <th>unique</th>\n",
       "      <th>top</th>\n",
       "      <th>freq</th>\n",
       "    </tr>\n",
       "    <tr>\n",
       "      <th>class_label</th>\n",
       "      <th></th>\n",
       "      <th></th>\n",
       "      <th></th>\n",
       "      <th></th>\n",
       "    </tr>\n",
       "  </thead>\n",
       "  <tbody>\n",
       "    <tr>\n",
       "      <th>ham</th>\n",
       "      <td>3868</td>\n",
       "      <td>3659</td>\n",
       "      <td>Sorry, I'll call later</td>\n",
       "      <td>28</td>\n",
       "    </tr>\n",
       "    <tr>\n",
       "      <th>spam</th>\n",
       "      <td>589</td>\n",
       "      <td>534</td>\n",
       "      <td>Please call our customer service representativ...</td>\n",
       "      <td>4</td>\n",
       "    </tr>\n",
       "  </tbody>\n",
       "</table>\n",
       "</div>"
      ],
      "text/plain": [
       "            message                                                            \\\n",
       "              count unique                                                top   \n",
       "class_label                                                                     \n",
       "ham            3868   3659                             Sorry, I'll call later   \n",
       "spam            589    534  Please call our customer service representativ...   \n",
       "\n",
       "                  \n",
       "            freq  \n",
       "class_label       \n",
       "ham           28  \n",
       "spam           4  "
      ]
     },
     "execution_count": 13,
     "metadata": {},
     "output_type": "execute_result"
    }
   ],
   "source": [
    "df_train.groupby('class_label').describe()"
   ]
  },
  {
   "cell_type": "code",
   "execution_count": 14,
   "metadata": {
    "ExecuteTime": {
     "end_time": "2020-02-01T09:58:17.684651Z",
     "start_time": "2020-02-01T09:58:17.673642Z"
    }
   },
   "outputs": [
    {
     "data": {
      "text/html": [
       "<div>\n",
       "<style scoped>\n",
       "    .dataframe tbody tr th:only-of-type {\n",
       "        vertical-align: middle;\n",
       "    }\n",
       "\n",
       "    .dataframe tbody tr th {\n",
       "        vertical-align: top;\n",
       "    }\n",
       "\n",
       "    .dataframe thead th {\n",
       "        text-align: right;\n",
       "    }\n",
       "</style>\n",
       "<table border=\"1\" class=\"dataframe\">\n",
       "  <thead>\n",
       "    <tr style=\"text-align: right;\">\n",
       "      <th></th>\n",
       "      <th>class_label</th>\n",
       "      <th>message</th>\n",
       "      <th>length</th>\n",
       "    </tr>\n",
       "  </thead>\n",
       "  <tbody>\n",
       "    <tr>\n",
       "      <th>0</th>\n",
       "      <td>spam</td>\n",
       "      <td>U were outbid by simonwatson5120 on the Shinco...</td>\n",
       "      <td>133</td>\n",
       "    </tr>\n",
       "    <tr>\n",
       "      <th>1</th>\n",
       "      <td>ham</td>\n",
       "      <td>Do you still have the grinder?</td>\n",
       "      <td>30</td>\n",
       "    </tr>\n",
       "    <tr>\n",
       "      <th>2</th>\n",
       "      <td>ham</td>\n",
       "      <td>No. Yes please. Been swimming?</td>\n",
       "      <td>30</td>\n",
       "    </tr>\n",
       "    <tr>\n",
       "      <th>3</th>\n",
       "      <td>ham</td>\n",
       "      <td>No de.am seeing in online shop so that i asked.</td>\n",
       "      <td>47</td>\n",
       "    </tr>\n",
       "    <tr>\n",
       "      <th>4</th>\n",
       "      <td>ham</td>\n",
       "      <td>Faith makes things possible,Hope makes things ...</td>\n",
       "      <td>133</td>\n",
       "    </tr>\n",
       "  </tbody>\n",
       "</table>\n",
       "</div>"
      ],
      "text/plain": [
       "  class_label                                            message  length\n",
       "0        spam  U were outbid by simonwatson5120 on the Shinco...     133\n",
       "1         ham                     Do you still have the grinder?      30\n",
       "2         ham                     No. Yes please. Been swimming?      30\n",
       "3         ham    No de.am seeing in online shop so that i asked.      47\n",
       "4         ham  Faith makes things possible,Hope makes things ...     133"
      ]
     },
     "execution_count": 14,
     "metadata": {},
     "output_type": "execute_result"
    }
   ],
   "source": [
    "df_train['length'] = df_train['message'].apply(len)\n",
    "df_train.head()"
   ]
  },
  {
   "cell_type": "code",
   "execution_count": 15,
   "metadata": {
    "ExecuteTime": {
     "end_time": "2020-02-01T09:58:18.322071Z",
     "start_time": "2020-02-01T09:58:17.820739Z"
    }
   },
   "outputs": [
    {
     "data": {
      "image/png": "[encoded data removed]",
      "text/plain": [
       "<Figure size 792x360 with 2 Axes>"
      ]
     },
     "metadata": {
      "needs_background": "light"
     },
     "output_type": "display_data"
    }
   ],
   "source": [
    "df_train.hist(column='length', by='class_label', bins=50,figsize=(11,5))\n",
    "plt.show()"
   ]
  },
  {
   "cell_type": "markdown",
   "metadata": {},
   "source": [
    "### Distribution of Target Variable"
   ]
  },
  {
   "cell_type": "code",
   "execution_count": 16,
   "metadata": {
    "ExecuteTime": {
     "end_time": "2020-02-01T09:58:18.330076Z",
     "start_time": "2020-02-01T09:58:18.324072Z"
    }
   },
   "outputs": [
    {
     "data": {
      "text/plain": [
       "ham     3868\n",
       "spam     589\n",
       "Name: class_label, dtype: int64"
      ]
     },
     "execution_count": 16,
     "metadata": {},
     "output_type": "execute_result"
    }
   ],
   "source": [
    "df_train.class_label.value_counts()"
   ]
  },
  {
   "cell_type": "code",
   "execution_count": 17,
   "metadata": {
    "ExecuteTime": {
     "end_time": "2020-02-01T09:58:18.42614Z",
     "start_time": "2020-02-01T09:58:18.332077Z"
    }
   },
   "outputs": [
    {
     "data": {
      "text/plain": [
       "ham     0.867848\n",
       "spam    0.132152\n",
       "Name: class_label, dtype: float64"
      ]
     },
     "execution_count": 17,
     "metadata": {},
     "output_type": "execute_result"
    }
   ],
   "source": [
    "df_train.class_label.value_counts(normalize=True)"
   ]
  },
  {
   "cell_type": "code",
   "execution_count": 18,
   "metadata": {
    "ExecuteTime": {
     "end_time": "2020-02-01T09:58:18.702386Z",
     "start_time": "2020-02-01T09:58:18.467167Z"
    }
   },
   "outputs": [
    {
     "data": {
      "image/png": "[encoded data removed]",
      "text/plain": [
       "<Figure size 864x288 with 2 Axes>"
      ]
     },
     "metadata": {
      "needs_background": "light"
     },
     "output_type": "display_data"
    }
   ],
   "source": [
    "f,ax=plt.subplots(1,2, figsize=(12,4))\n",
    "df_train.class_label.value_counts().plot.pie(explode=[0,0.12],autopct='%1.3f%%',ax=ax[0])\n",
    "sns.countplot('class_label',data=df_train)\n",
    "plt.show()"
   ]
  },
  {
   "cell_type": "markdown",
   "metadata": {},
   "source": [
    "#### So, the dataset is imbalanced with respect to target variable."
   ]
  },
  {
   "cell_type": "markdown",
   "metadata": {},
   "source": [
    "## 4.) Preprocessing the data"
   ]
  },
  {
   "cell_type": "code",
   "execution_count": 19,
   "metadata": {
    "ExecuteTime": {
     "end_time": "2020-02-01T09:58:19.478835Z",
     "start_time": "2020-02-01T09:58:19.472831Z"
    }
   },
   "outputs": [],
   "source": [
    "df_train.drop('class_label',axis=1,inplace=True)\n",
    "df_train.drop('length',axis=1,inplace=True)"
   ]
  },
  {
   "cell_type": "code",
   "execution_count": 20,
   "metadata": {
    "ExecuteTime": {
     "end_time": "2020-02-01T09:58:19.638041Z",
     "start_time": "2020-02-01T09:58:19.634039Z"
    }
   },
   "outputs": [],
   "source": [
    "## joined df_train is combination of train and test\n",
    "df_train = df_train.append(df_test)"
   ]
  },
  {
   "cell_type": "code",
   "execution_count": 21,
   "metadata": {
    "ExecuteTime": {
     "end_time": "2020-02-01T09:58:19.790234Z",
     "start_time": "2020-02-01T09:58:19.785231Z"
    }
   },
   "outputs": [
    {
     "data": {
      "text/plain": [
       "0    U were outbid by simonwatson5120 on the Shinco...\n",
       "1                       Do you still have the grinder?\n",
       "2                       No. Yes please. Been swimming?\n",
       "3      No de.am seeing in online shop so that i asked.\n",
       "4    Faith makes things possible,Hope makes things ...\n",
       "Name: message, dtype: object"
      ]
     },
     "execution_count": 21,
     "metadata": {},
     "output_type": "execute_result"
    }
   ],
   "source": [
    "# store the SMS message\n",
    "sms = df_train.message\n",
    "sms.head()"
   ]
  },
  {
   "cell_type": "markdown",
   "metadata": {},
   "source": [
    "### Using *regular expression* to replace email address, urls, phone number, money"
   ]
  },
  {
   "cell_type": "code",
   "execution_count": 22,
   "metadata": {
    "ExecuteTime": {
     "end_time": "2020-02-01T09:58:20.15373Z",
     "start_time": "2020-02-01T09:58:20.13772Z"
    }
   },
   "outputs": [],
   "source": [
    "# Replace email address with 'emailaddress'\n",
    "final_sms = sms.str.replace(r'^.+@[^\\.].*\\.[a-z]{2,}$', 'emailaddress')"
   ]
  },
  {
   "cell_type": "code",
   "execution_count": 23,
   "metadata": {
    "ExecuteTime": {
     "end_time": "2020-02-01T09:58:20.320609Z",
     "start_time": "2020-02-01T09:58:20.305598Z"
    }
   },
   "outputs": [],
   "source": [
    "# Replace urls with 'webaddress'\n",
    "final_sms = final_sms.str.replace(r'^http\\://[a-zA-Z0-9\\-\\.]+\\.[a-zA-Z]{2,3}(/\\S*)?$', 'webaddress')"
   ]
  },
  {
   "cell_type": "code",
   "execution_count": 24,
   "metadata": {
    "ExecuteTime": {
     "end_time": "2020-02-01T09:58:20.485613Z",
     "start_time": "2020-02-01T09:58:20.472604Z"
    }
   },
   "outputs": [],
   "source": [
    "# Replace money symbol with 'money-symbol'\n",
    "final_sms = final_sms.str.replace(r'£|\\$', 'money-symbol')"
   ]
  },
  {
   "cell_type": "code",
   "execution_count": 25,
   "metadata": {
    "ExecuteTime": {
     "end_time": "2020-02-01T09:58:20.641592Z",
     "start_time": "2020-02-01T09:58:20.624581Z"
    }
   },
   "outputs": [],
   "source": [
    "# Replace 10 digit phone number with 'phone-number'\n",
    "final_sms = final_sms.str.replace(r'^\\(?[\\d]{3}\\)?[\\s-]?[\\d]{3}[\\s-]?[\\d]{4}$', 'phone-number')"
   ]
  },
  {
   "cell_type": "code",
   "execution_count": 26,
   "metadata": {
    "ExecuteTime": {
     "end_time": "2020-02-01T09:58:20.819003Z",
     "start_time": "2020-02-01T09:58:20.794986Z"
    }
   },
   "outputs": [],
   "source": [
    "# Replace normal number with 'number'\n",
    "final_sms = final_sms.str.replace(r'\\d+(\\.\\d+)?', 'number')"
   ]
  },
  {
   "cell_type": "code",
   "execution_count": 27,
   "metadata": {
    "ExecuteTime": {
     "end_time": "2020-02-01T09:58:20.987361Z",
     "start_time": "2020-02-01T09:58:20.961345Z"
    }
   },
   "outputs": [],
   "source": [
    "# remove punctuation\n",
    "final_sms = final_sms.str.replace(r'[^\\w\\d\\s]', ' ')"
   ]
  },
  {
   "cell_type": "code",
   "execution_count": 28,
   "metadata": {
    "ExecuteTime": {
     "end_time": "2020-02-01T09:58:21.16559Z",
     "start_time": "2020-02-01T09:58:21.12157Z"
    }
   },
   "outputs": [],
   "source": [
    "# remove whitespace between terms with single space\n",
    "final_sms = final_sms.str.replace(r'\\s+', ' ')"
   ]
  },
  {
   "cell_type": "code",
   "execution_count": 29,
   "metadata": {
    "ExecuteTime": {
     "end_time": "2020-02-01T09:58:21.357888Z",
     "start_time": "2020-02-01T09:58:21.304775Z"
    }
   },
   "outputs": [],
   "source": [
    "# remove leading and trailing whitespace\n",
    "final_sms = final_sms.str.replace(r'^\\s+|\\s*?$', ' ')"
   ]
  },
  {
   "cell_type": "code",
   "execution_count": 30,
   "metadata": {
    "ExecuteTime": {
     "end_time": "2020-02-01T09:58:21.518904Z",
     "start_time": "2020-02-01T09:58:21.466861Z"
    }
   },
   "outputs": [],
   "source": [
    "# change words to lower case\n",
    "final_sms = final_sms.str.lower()"
   ]
  },
  {
   "cell_type": "code",
   "execution_count": 31,
   "metadata": {
    "ExecuteTime": {
     "end_time": "2020-02-01T09:58:21.638996Z",
     "start_time": "2020-02-01T09:58:21.632993Z"
    }
   },
   "outputs": [
    {
     "data": {
      "text/plain": [
       "0       u were outbid by simonwatsonnumber on the shin...\n",
       "1                          do you still have the grinder \n",
       "2                            no yes please been swimming \n",
       "3         no de am seeing in online shop so that i asked \n",
       "4       faith makes things possible hope makes things ...\n",
       "                              ...                        \n",
       "1110    yo chad which gymnastics class do you wanna ta...\n",
       "1111    god created gap btwn ur fingers so dat sumnumb...\n",
       "1112         i m working technical support voice process \n",
       "1113                       i told your number to gautham \n",
       "1114                    well she s in for a big surprise \n",
       "Name: message, Length: 5572, dtype: object"
      ]
     },
     "execution_count": 31,
     "metadata": {},
     "output_type": "execute_result"
    }
   ],
   "source": [
    "final_sms"
   ]
  },
  {
   "cell_type": "markdown",
   "metadata": {},
   "source": [
    "#### NLTK "
   ]
  },
  {
   "cell_type": "code",
   "execution_count": 32,
   "metadata": {
    "ExecuteTime": {
     "end_time": "2020-02-01T09:58:22.358389Z",
     "start_time": "2020-02-01T09:58:21.961836Z"
    }
   },
   "outputs": [],
   "source": [
    "import nltk"
   ]
  },
  {
   "cell_type": "code",
   "execution_count": 33,
   "metadata": {
    "ExecuteTime": {
     "end_time": "2020-02-01T09:58:22.391411Z",
     "start_time": "2020-02-01T09:58:22.359392Z"
    }
   },
   "outputs": [],
   "source": [
    "# remove stop words from SMS\n",
    "from nltk.corpus import stopwords\n",
    "stop_words = set(stopwords.words('english'))\n",
    "final_sms = final_sms.apply(lambda x: ' '.join(term for term in x.split() if term not in stop_words))"
   ]
  },
  {
   "cell_type": "code",
   "execution_count": 34,
   "metadata": {
    "ExecuteTime": {
     "end_time": "2020-02-01T09:58:23.864402Z",
     "start_time": "2020-02-01T09:58:22.393409Z"
    }
   },
   "outputs": [],
   "source": [
    "# remove word stems using Porter stemmer\n",
    "import nltk\n",
    "ps = nltk.PorterStemmer()\n",
    "final_sms = final_sms.apply(lambda x: ' '.join(ps.stem(term) for term in x.split()))"
   ]
  },
  {
   "cell_type": "code",
   "execution_count": 35,
   "metadata": {
    "ExecuteTime": {
     "end_time": "2020-02-01T09:58:23.871386Z",
     "start_time": "2020-02-01T09:58:23.866383Z"
    }
   },
   "outputs": [
    {
     "data": {
      "text/plain": [
       "0       u outbid simonwatsonnumb shinco dvd plyr numbe...\n",
       "1                                           still grinder\n",
       "2                                           ye pleas swim\n",
       "3                                   de see onlin shop ask\n",
       "4       faith make thing possibl hope make thing work ...\n",
       "                              ...                        \n",
       "1110    yo chad gymnast class wanna take site say chri...\n",
       "1111    god creat gap btwn ur finger dat sumnumb vri s...\n",
       "1112                    work technic support voic process\n",
       "1113                                  told number gautham\n",
       "1114                                     well big surpris\n",
       "Name: message, Length: 5572, dtype: object"
      ]
     },
     "execution_count": 35,
     "metadata": {},
     "output_type": "execute_result"
    }
   ],
   "source": [
    "final_sms"
   ]
  },
  {
   "cell_type": "code",
   "execution_count": 36,
   "metadata": {
    "ExecuteTime": {
     "end_time": "2020-02-01T09:58:23.997542Z",
     "start_time": "2020-02-01T09:58:23.874389Z"
    }
   },
   "outputs": [],
   "source": [
    "from nltk.tokenize import word_tokenize"
   ]
  },
  {
   "cell_type": "code",
   "execution_count": 37,
   "metadata": {
    "ExecuteTime": {
     "end_time": "2020-02-01T09:58:24.933176Z",
     "start_time": "2020-02-01T09:58:23.999534Z"
    }
   },
   "outputs": [],
   "source": [
    "# creating a bag-of-words\n",
    "all_words = []\n",
    "for sms in final_sms:\n",
    "    words = word_tokenize(sms)\n",
    "    for w in words:\n",
    "        all_words.append(w)\n",
    "        \n",
    "all_words = nltk.FreqDist(all_words)        "
   ]
  },
  {
   "cell_type": "code",
   "execution_count": 38,
   "metadata": {
    "ExecuteTime": {
     "end_time": "2020-02-01T09:58:24.938174Z",
     "start_time": "2020-02-01T09:58:24.934173Z"
    }
   },
   "outputs": [
    {
     "name": "stdout",
     "output_type": "stream",
     "text": [
      "Number of words: 6534\n"
     ]
    }
   ],
   "source": [
    "# print total number of words\n",
    "print('Number of words: {}'.format(len(all_words)))"
   ]
  },
  {
   "cell_type": "code",
   "execution_count": 39,
   "metadata": {
    "ExecuteTime": {
     "end_time": "2020-02-01T09:58:25.041448Z",
     "start_time": "2020-02-01T09:58:24.940175Z"
    }
   },
   "outputs": [
    {
     "name": "stdout",
     "output_type": "stream",
     "text": [
      "10 most common words: [('number', 2739), ('u', 1192), ('call', 672), ('go', 453), ('get', 451), ('ur', 385), ('symbolnumb', 325), ('gt', 318), ('lt', 316), ('åmoney', 303)]\n"
     ]
    }
   ],
   "source": [
    "# print 10 most common words\n",
    "print('10 most common words: {}'.format(all_words.most_common(10)))"
   ]
  },
  {
   "cell_type": "code",
   "execution_count": 40,
   "metadata": {
    "ExecuteTime": {
     "end_time": "2020-02-01T09:58:25.133874Z",
     "start_time": "2020-02-01T09:58:25.042448Z"
    }
   },
   "outputs": [],
   "source": [
    "temp = []\n",
    "for (i,j) in all_words.most_common(1200):\n",
    "    temp.append(i)"
   ]
  },
  {
   "cell_type": "code",
   "execution_count": 41,
   "metadata": {
    "ExecuteTime": {
     "end_time": "2020-02-01T09:58:25.245657Z",
     "start_time": "2020-02-01T09:58:25.135876Z"
    },
    "collapsed": true,
    "jupyter": {
     "outputs_hidden": true
    }
   },
   "outputs": [
    {
     "data": {
      "text/plain": [
       "['number',\n",
       " 'u',\n",
       " 'call',\n",
       " 'go',\n",
       " 'get',\n",
       " 'ur',\n",
       " 'symbolnumb',\n",
       " 'gt',\n",
       " 'lt',\n",
       " 'åmoney',\n",
       " 'come',\n",
       " 'ok',\n",
       " 'free',\n",
       " 'know',\n",
       " 'day',\n",
       " 'love',\n",
       " 'like',\n",
       " 'time',\n",
       " 'got',\n",
       " 'good',\n",
       " 'want',\n",
       " 'text',\n",
       " 'send',\n",
       " 'txt',\n",
       " 'need',\n",
       " 'one',\n",
       " 'today',\n",
       " 'take',\n",
       " 'see',\n",
       " 'home',\n",
       " 'stop',\n",
       " 'think',\n",
       " 'repli',\n",
       " 'r',\n",
       " 'lor',\n",
       " 'sorri',\n",
       " 'still',\n",
       " 'tell',\n",
       " 'numberp',\n",
       " 'mobil',\n",
       " 'n',\n",
       " 'back',\n",
       " 'da',\n",
       " 'make',\n",
       " 'k',\n",
       " 'dont',\n",
       " 'phone',\n",
       " 'week',\n",
       " 'pleas',\n",
       " 'say',\n",
       " 'hi',\n",
       " 'new',\n",
       " 'work',\n",
       " 'later',\n",
       " 'pl',\n",
       " 'ask',\n",
       " 'hope',\n",
       " 'co',\n",
       " 'miss',\n",
       " 'meet',\n",
       " 'msg',\n",
       " 'messag',\n",
       " 'dear',\n",
       " 'night',\n",
       " 'wait',\n",
       " 'happi',\n",
       " 'ì_',\n",
       " 'c',\n",
       " 'well',\n",
       " 'thing',\n",
       " 'much',\n",
       " 'great',\n",
       " 'claim',\n",
       " 'min',\n",
       " 'oh',\n",
       " 'tri',\n",
       " 'wat',\n",
       " 'give',\n",
       " 'hey',\n",
       " 'na',\n",
       " 'friend',\n",
       " 'thank',\n",
       " 'ye',\n",
       " 'way',\n",
       " 'www',\n",
       " 'let',\n",
       " 'e',\n",
       " 'feel',\n",
       " 'prize',\n",
       " 'right',\n",
       " 'wan',\n",
       " 'tomorrow',\n",
       " 'even',\n",
       " 'alreadi',\n",
       " 'pick',\n",
       " 'cash',\n",
       " 'said',\n",
       " 'leav',\n",
       " 'yeah',\n",
       " 'realli',\n",
       " 'care',\n",
       " 'amp',\n",
       " 'tone',\n",
       " 'babe',\n",
       " 'im',\n",
       " 'b',\n",
       " 'win',\n",
       " 'morn',\n",
       " 'find',\n",
       " 'money',\n",
       " 'life',\n",
       " 'last',\n",
       " 'sleep',\n",
       " 'servic',\n",
       " 'keep',\n",
       " 'sure',\n",
       " 'use',\n",
       " 'uk',\n",
       " 'would',\n",
       " 'buy',\n",
       " 'year',\n",
       " 'contact',\n",
       " 'lol',\n",
       " 'anyth',\n",
       " 'also',\n",
       " 'nokia',\n",
       " 'urgent',\n",
       " 'start',\n",
       " 'wish',\n",
       " 'look',\n",
       " 'everi',\n",
       " 'smile',\n",
       " 'sent',\n",
       " 'show',\n",
       " 'watch',\n",
       " 'someth',\n",
       " 'com',\n",
       " 'end',\n",
       " 'us',\n",
       " 'finish',\n",
       " 'award',\n",
       " 'cant',\n",
       " 'place',\n",
       " 'first',\n",
       " 'custom',\n",
       " 'went',\n",
       " 'someon',\n",
       " 'next',\n",
       " 'guy',\n",
       " 'nice',\n",
       " 'soon',\n",
       " 'tonight',\n",
       " 'around',\n",
       " 'word',\n",
       " 'help',\n",
       " 'late',\n",
       " 'special',\n",
       " 'talk',\n",
       " 'chat',\n",
       " 'person',\n",
       " 'could',\n",
       " 'collect',\n",
       " 'gon',\n",
       " 'mani',\n",
       " 'per',\n",
       " 'ya',\n",
       " 'plan',\n",
       " 'sm',\n",
       " 'live',\n",
       " 'alway',\n",
       " 'minut',\n",
       " 'check',\n",
       " 'name',\n",
       " 'x',\n",
       " 'v',\n",
       " 'lot',\n",
       " 'gud',\n",
       " 'dun',\n",
       " 'shop',\n",
       " 'told',\n",
       " 'hello',\n",
       " 'mean',\n",
       " 'ìï',\n",
       " 'girl',\n",
       " 'fine',\n",
       " 'heart',\n",
       " 'haha',\n",
       " 'reach',\n",
       " 'peopl',\n",
       " 'hour',\n",
       " 'may',\n",
       " 'offer',\n",
       " 'happen',\n",
       " 'guarante',\n",
       " 'yet',\n",
       " 'thk',\n",
       " 'done',\n",
       " 'thought',\n",
       " 'month',\n",
       " 'god',\n",
       " 'play',\n",
       " 'holiday',\n",
       " 'line',\n",
       " 'fuck',\n",
       " 'class',\n",
       " 'best',\n",
       " 'man',\n",
       " 'stuff',\n",
       " 'car',\n",
       " 'lunch',\n",
       " 'receiv',\n",
       " 'hous',\n",
       " 'job',\n",
       " 'mayb',\n",
       " 'eat',\n",
       " 'enjoy',\n",
       " 'draw',\n",
       " 'ill',\n",
       " 'worri',\n",
       " 'problem',\n",
       " 'bit',\n",
       " 'never',\n",
       " 'cs',\n",
       " 'readi',\n",
       " 'account',\n",
       " 'yup',\n",
       " 'that',\n",
       " 'better',\n",
       " 'dat',\n",
       " 'rate',\n",
       " 'guess',\n",
       " 'long',\n",
       " 'cool',\n",
       " 'date',\n",
       " 'drive',\n",
       " 'mind',\n",
       " 'chanc',\n",
       " 'numberst',\n",
       " 'wk',\n",
       " 'weekend',\n",
       " 'cost',\n",
       " 'boy',\n",
       " 'latest',\n",
       " 'game',\n",
       " 'rington',\n",
       " 'world',\n",
       " 'quit',\n",
       " 'numberppm',\n",
       " 'pay',\n",
       " 'book',\n",
       " 'real',\n",
       " 'wonder',\n",
       " 'bring',\n",
       " 'room',\n",
       " 'sir',\n",
       " 'half',\n",
       " 'yo',\n",
       " 'camera',\n",
       " 'û',\n",
       " 'lar',\n",
       " 'pic',\n",
       " 'voucher',\n",
       " 'noth',\n",
       " 'sweet',\n",
       " 'join',\n",
       " 'liao',\n",
       " 'anoth',\n",
       " 'shit',\n",
       " 'big',\n",
       " 'luv',\n",
       " 'charg',\n",
       " 'question',\n",
       " 'stay',\n",
       " 'kiss',\n",
       " 'ah',\n",
       " 'dinner',\n",
       " 'landlin',\n",
       " 'birthday',\n",
       " 'select',\n",
       " 'put',\n",
       " 'box',\n",
       " 'video',\n",
       " 'might',\n",
       " 'ever',\n",
       " 'ju',\n",
       " 'rememb',\n",
       " 'speak',\n",
       " 'numberth',\n",
       " 'appli',\n",
       " 'actual',\n",
       " 'bt',\n",
       " 'orang',\n",
       " 'po',\n",
       " 'di',\n",
       " 'point',\n",
       " 'tv',\n",
       " 'run',\n",
       " 'anyway',\n",
       " 'pa',\n",
       " 'hear',\n",
       " 'xxx',\n",
       " 'final',\n",
       " 'babi',\n",
       " 'aight',\n",
       " 'earli',\n",
       " 'network',\n",
       " 'chang',\n",
       " 'probabl',\n",
       " 'sat',\n",
       " 'fun',\n",
       " 'answer',\n",
       " 'den',\n",
       " 'offic',\n",
       " 'bed',\n",
       " 'part',\n",
       " 'forgot',\n",
       " 'princess',\n",
       " 'two',\n",
       " 'bad',\n",
       " 'thanx',\n",
       " 'shall',\n",
       " 'wont',\n",
       " 'numberpm',\n",
       " 'hurt',\n",
       " 'dunno',\n",
       " 'wake',\n",
       " 'left',\n",
       " 'code',\n",
       " 'easi',\n",
       " 'dream',\n",
       " 'dad',\n",
       " 'frnd',\n",
       " 'numbernd',\n",
       " 'walk',\n",
       " 'leh',\n",
       " 'face',\n",
       " 'littl',\n",
       " 'pain',\n",
       " 'didnt',\n",
       " 'mail',\n",
       " 'wife',\n",
       " 'detail',\n",
       " 'everyth',\n",
       " 'enough',\n",
       " 'afternoon',\n",
       " 'mate',\n",
       " 'school',\n",
       " 'bu',\n",
       " 'made',\n",
       " 'movi',\n",
       " 'sound',\n",
       " 'post',\n",
       " 'bore',\n",
       " 'tmr',\n",
       " 'without',\n",
       " 'numberhr',\n",
       " 'read',\n",
       " 'lose',\n",
       " 'await',\n",
       " 'town',\n",
       " 'gift',\n",
       " 'pound',\n",
       " 'decid',\n",
       " 'okay',\n",
       " 'test',\n",
       " 'sexi',\n",
       " 'though',\n",
       " 'true',\n",
       " 'poli',\n",
       " 'credit',\n",
       " 'must',\n",
       " 'wif',\n",
       " 'sinc',\n",
       " 'came',\n",
       " 'g',\n",
       " 'xma',\n",
       " 'colour',\n",
       " 'close',\n",
       " 'import',\n",
       " 'price',\n",
       " 'goe',\n",
       " 'lesson',\n",
       " 'drink',\n",
       " 'wot',\n",
       " 'hav',\n",
       " 'til',\n",
       " 'abt',\n",
       " 'set',\n",
       " 'abl',\n",
       " 'mob',\n",
       " 'entri',\n",
       " 'de',\n",
       " 'updat',\n",
       " 'juz',\n",
       " 'away',\n",
       " 'smoke',\n",
       " 'music',\n",
       " 'enter',\n",
       " 'decim',\n",
       " 'plu',\n",
       " 'plz',\n",
       " 'bath',\n",
       " 'beauti',\n",
       " 'wen',\n",
       " 'doubl',\n",
       " 'top',\n",
       " 'weekli',\n",
       " 'valid',\n",
       " 'order',\n",
       " 'alright',\n",
       " 'busi',\n",
       " 'hair',\n",
       " 'till',\n",
       " 'havent',\n",
       " 'els',\n",
       " 'yesterday',\n",
       " 'drop',\n",
       " 'saw',\n",
       " 'dude',\n",
       " 'onlin',\n",
       " 'invit',\n",
       " 'trip',\n",
       " 'net',\n",
       " 'attempt',\n",
       " 'friendship',\n",
       " 'oso',\n",
       " 'id',\n",
       " 'head',\n",
       " 'hand',\n",
       " 'lei',\n",
       " 'food',\n",
       " 'nation',\n",
       " 'coz',\n",
       " 'either',\n",
       " 'ard',\n",
       " 'famili',\n",
       " 'goin',\n",
       " 'yr',\n",
       " 'open',\n",
       " 'player',\n",
       " 'haf',\n",
       " 'ring',\n",
       " 'search',\n",
       " 'inform',\n",
       " 'deliveri',\n",
       " 'hot',\n",
       " 'address',\n",
       " 'nite',\n",
       " 'sch',\n",
       " 'second',\n",
       " 'full',\n",
       " 'mom',\n",
       " 'nt',\n",
       " 'bonu',\n",
       " 'togeth',\n",
       " 'sae',\n",
       " 'tot',\n",
       " 'believ',\n",
       " 'wid',\n",
       " 'sad',\n",
       " 'stori',\n",
       " 'http',\n",
       " 'si',\n",
       " 'complet',\n",
       " 'brother',\n",
       " 'caus',\n",
       " 'hold',\n",
       " 'train',\n",
       " 'forget',\n",
       " 'oki',\n",
       " 'murder',\n",
       " 'reason',\n",
       " 'listen',\n",
       " 'land',\n",
       " 'touch',\n",
       " 'studi',\n",
       " 'noe',\n",
       " 'match',\n",
       " 'eve',\n",
       " 'club',\n",
       " 'row',\n",
       " 'old',\n",
       " 'chikku',\n",
       " 'mum',\n",
       " 'email',\n",
       " 'huh',\n",
       " 'fri',\n",
       " 'awesom',\n",
       " 'content',\n",
       " 'privat',\n",
       " 'expir',\n",
       " 'everyon',\n",
       " 'pm',\n",
       " 'die',\n",
       " 'grnumber',\n",
       " 'news',\n",
       " 'tomo',\n",
       " 'aft',\n",
       " 'took',\n",
       " 'age',\n",
       " 'pub',\n",
       " 'parent',\n",
       " 'ta',\n",
       " 'dog',\n",
       " 'congrat',\n",
       " 'treat',\n",
       " 'rite',\n",
       " 'unsubscrib',\n",
       " 'simpl',\n",
       " 'break',\n",
       " 'opt',\n",
       " 'avail',\n",
       " 'wil',\n",
       " 'valentin',\n",
       " 'sort',\n",
       " 'gd',\n",
       " 'angri',\n",
       " 'statement',\n",
       " 'park',\n",
       " 'sister',\n",
       " 'mine',\n",
       " 'neva',\n",
       " 'caller',\n",
       " 'tc',\n",
       " 'bnumber',\n",
       " 'reveal',\n",
       " 'fanci',\n",
       " 'move',\n",
       " 'laugh',\n",
       " 'choos',\n",
       " 'tho',\n",
       " 'prob',\n",
       " 'current',\n",
       " 'valu',\n",
       " 'auction',\n",
       " 'download',\n",
       " 'compani',\n",
       " 'anyon',\n",
       " 'card',\n",
       " 'visit',\n",
       " 'knw',\n",
       " 'sell',\n",
       " 'understand',\n",
       " 'lucki',\n",
       " 'worth',\n",
       " 'forward',\n",
       " 'w',\n",
       " 'alon',\n",
       " 'joke',\n",
       " 'ticket',\n",
       " 'gal',\n",
       " 'numberam',\n",
       " 'seem',\n",
       " 'whatev',\n",
       " 'found',\n",
       " 'carlo',\n",
       " 'colleg',\n",
       " 'bank',\n",
       " 'pass',\n",
       " 'xx',\n",
       " 'type',\n",
       " 'what',\n",
       " 'ltd',\n",
       " 'mobileupdnumb',\n",
       " 'sun',\n",
       " 'sit',\n",
       " 'hit',\n",
       " 'identifi',\n",
       " 'hard',\n",
       " 'uncl',\n",
       " 'exam',\n",
       " 'winner',\n",
       " 'welcom',\n",
       " 'friday',\n",
       " 'boytoy',\n",
       " 'pobox',\n",
       " 'outsid',\n",
       " 'secret',\n",
       " 'song',\n",
       " 'saturday',\n",
       " 'oper',\n",
       " 'save',\n",
       " 'fast',\n",
       " 'ha',\n",
       " 'fone',\n",
       " 'log',\n",
       " 'surpris',\n",
       " 'bill',\n",
       " 'far',\n",
       " 'smth',\n",
       " 'gone',\n",
       " 'parti',\n",
       " 'anytim',\n",
       " 'kind',\n",
       " 'usual',\n",
       " 'return',\n",
       " 'congratul',\n",
       " 'boxnumb',\n",
       " 'wrong',\n",
       " 'th',\n",
       " 'light',\n",
       " 'clean',\n",
       " 'project',\n",
       " 'tel',\n",
       " 'bout',\n",
       " 'cut',\n",
       " 'remov',\n",
       " 'oredi',\n",
       " 'rs',\n",
       " 'confirm',\n",
       " 'poboxnumb',\n",
       " 'follow',\n",
       " 'info',\n",
       " 'pretti',\n",
       " 'case',\n",
       " 'mu',\n",
       " 'chennai',\n",
       " 'nope',\n",
       " 'cum',\n",
       " 'camcord',\n",
       " 'darlin',\n",
       " 'goodmorn',\n",
       " 'how',\n",
       " 'suitenumb',\n",
       " 'numberland',\n",
       " 'û_',\n",
       " 'wit',\n",
       " 'drug',\n",
       " 'interest',\n",
       " 'tht',\n",
       " 'differ',\n",
       " 'sea',\n",
       " 'rain',\n",
       " 'crazi',\n",
       " 'quiz',\n",
       " 'numbermth',\n",
       " 'f',\n",
       " 'unlimit',\n",
       " 'sub',\n",
       " 'ga',\n",
       " 'least',\n",
       " 'hungri',\n",
       " 'tire',\n",
       " 'snow',\n",
       " 'fr',\n",
       " 'ninumb',\n",
       " 'numberday',\n",
       " 'fix',\n",
       " 'meant',\n",
       " 'whole',\n",
       " 'rock',\n",
       " 'correct',\n",
       " 'cd',\n",
       " 'jay',\n",
       " 'suppos',\n",
       " 'mrng',\n",
       " 'support',\n",
       " 'sunday',\n",
       " 'blue',\n",
       " 'freemsg',\n",
       " 'ad',\n",
       " 'ten',\n",
       " 'kid',\n",
       " 'wkli',\n",
       " 'cours',\n",
       " 'earlier',\n",
       " 'comput',\n",
       " 'spend',\n",
       " 'term',\n",
       " 'hmm',\n",
       " 'frm',\n",
       " 'scream',\n",
       " 'savamob',\n",
       " 'mnumber',\n",
       " 'christma',\n",
       " 'motorola',\n",
       " 'promis',\n",
       " 'side',\n",
       " 'almost',\n",
       " 'etc',\n",
       " 'un',\n",
       " 'redeem',\n",
       " 'india',\n",
       " 'normal',\n",
       " 'eye',\n",
       " 'felt',\n",
       " 'catch',\n",
       " 'luck',\n",
       " 'hee',\n",
       " 'store',\n",
       " 'singl',\n",
       " 'area',\n",
       " 'lost',\n",
       " 'joy',\n",
       " 'father',\n",
       " 'stupid',\n",
       " 'bslvyl',\n",
       " 'dnt',\n",
       " 'pray',\n",
       " 'marri',\n",
       " 'st',\n",
       " 'paper',\n",
       " 'hmmm',\n",
       " 'ago',\n",
       " 'film',\n",
       " 'balanc',\n",
       " 'wine',\n",
       " 'fren',\n",
       " 'turn',\n",
       " 'coupl',\n",
       " 'sex',\n",
       " 'mah',\n",
       " 'press',\n",
       " 'ass',\n",
       " 'mr',\n",
       " 'moment',\n",
       " 'march',\n",
       " 'within',\n",
       " 'reward',\n",
       " 'yar',\n",
       " 'shower',\n",
       " 'figur',\n",
       " 'ac',\n",
       " 'gym',\n",
       " 'crave',\n",
       " 'semest',\n",
       " 'callnumberoptout',\n",
       " 'hospit',\n",
       " 'ugh',\n",
       " 'teach',\n",
       " 'john',\n",
       " 'askd',\n",
       " 'cheer',\n",
       " 'deal',\n",
       " 'grin',\n",
       " 'via',\n",
       " 'an',\n",
       " 'activ',\n",
       " 'ipod',\n",
       " 'red',\n",
       " 'darren',\n",
       " 'sometim',\n",
       " 'laptop',\n",
       " 'stand',\n",
       " 'slow',\n",
       " 'photo',\n",
       " 'extra',\n",
       " 'eh',\n",
       " 'hr',\n",
       " 'wow',\n",
       " 'swing',\n",
       " 'met',\n",
       " 'comp',\n",
       " 'seen',\n",
       " 'complimentari',\n",
       " 'numberu',\n",
       " 'knew',\n",
       " 'remind',\n",
       " 'fill',\n",
       " 'difficult',\n",
       " 'safe',\n",
       " 'rental',\n",
       " 'heard',\n",
       " 'direct',\n",
       " 'load',\n",
       " 'ladi',\n",
       " 'disturb',\n",
       " 'connect',\n",
       " 'possibl',\n",
       " 'fantasi',\n",
       " 'muz',\n",
       " 'includ',\n",
       " 'silent',\n",
       " 'somebodi',\n",
       " 'abiola',\n",
       " 'slowli',\n",
       " 'copi',\n",
       " 'expect',\n",
       " 'request',\n",
       " 'truth',\n",
       " 'ex',\n",
       " 'symbol',\n",
       " 'asap',\n",
       " 'gn',\n",
       " 'link',\n",
       " 'rent',\n",
       " 'rest',\n",
       " 'warm',\n",
       " 'page',\n",
       " 'wana',\n",
       " 'cancel',\n",
       " 'door',\n",
       " 'fall',\n",
       " 'lovabl',\n",
       " 'blood',\n",
       " 'usf',\n",
       " 'convey',\n",
       " 'loan',\n",
       " 'fact',\n",
       " 'orchard',\n",
       " 'road',\n",
       " 'txting',\n",
       " 'kate',\n",
       " 'hg',\n",
       " 'regist',\n",
       " 'member',\n",
       " 'std',\n",
       " 'monday',\n",
       " 'whenev',\n",
       " 'nyt',\n",
       " 'wap',\n",
       " 'fight',\n",
       " 'wnumberjnumberhl',\n",
       " 'p',\n",
       " 'comin',\n",
       " 'eg',\n",
       " 'bcoz',\n",
       " 'discount',\n",
       " 'rpli',\n",
       " 'small',\n",
       " 'polic',\n",
       " 'idea',\n",
       " 'lover',\n",
       " 'merri',\n",
       " 'less',\n",
       " 'regard',\n",
       " 'ntt',\n",
       " 'soni',\n",
       " 'wast',\n",
       " 'poor',\n",
       " 'doin',\n",
       " 'nobodi',\n",
       " 'custcar',\n",
       " 'apart',\n",
       " 'woke',\n",
       " 'tonit',\n",
       " 'sale',\n",
       " 'kick',\n",
       " 'admir',\n",
       " 'situat',\n",
       " 'bless',\n",
       " 'write',\n",
       " 'ts',\n",
       " 'summer',\n",
       " 'del',\n",
       " 'water',\n",
       " 'england',\n",
       " 'share',\n",
       " 'ho',\n",
       " 'deep',\n",
       " 'med',\n",
       " 'agenumb',\n",
       " 'voic',\n",
       " 'hw',\n",
       " 'energi',\n",
       " 'repres',\n",
       " 'em',\n",
       " 'yep',\n",
       " 'short',\n",
       " 'fantast',\n",
       " 'bag',\n",
       " 'getz',\n",
       " 'mm',\n",
       " 'il',\n",
       " 'sign',\n",
       " 'record',\n",
       " 'opinion',\n",
       " 'numberw',\n",
       " 'gave',\n",
       " 'recent',\n",
       " 'glad',\n",
       " 'immedi',\n",
       " 'somewher',\n",
       " 'trust',\n",
       " 'nah',\n",
       " 'gettin',\n",
       " 'style',\n",
       " 'cover',\n",
       " 'ge',\n",
       " 'cook',\n",
       " 'ldn',\n",
       " 'mistak',\n",
       " 'wed',\n",
       " 'rakhesh',\n",
       " 'sick',\n",
       " 'access',\n",
       " 'excus',\n",
       " 'doctor',\n",
       " 'men',\n",
       " 'across',\n",
       " 'quot',\n",
       " 'pete',\n",
       " 'cheap',\n",
       " 'otherwis',\n",
       " 'numbernit',\n",
       " 'hmv',\n",
       " 'oop',\n",
       " 'children',\n",
       " 'gap',\n",
       " 'empti',\n",
       " 'callertun',\n",
       " 'bid',\n",
       " 'lift',\n",
       " 'moral',\n",
       " 'dead',\n",
       " 'bluetooth',\n",
       " 'forev',\n",
       " 'flight',\n",
       " 'boss',\n",
       " 'near',\n",
       " 'doesnt',\n",
       " 'sofa',\n",
       " 'refer',\n",
       " 'result',\n",
       " 'teas',\n",
       " 'ûò',\n",
       " 'especi',\n",
       " 'mark',\n",
       " 'deliv',\n",
       " 'ldew',\n",
       " 'flirt',\n",
       " 'weed',\n",
       " 'greet',\n",
       " 'flag',\n",
       " 'hotel',\n",
       " 'serious',\n",
       " 'rose',\n",
       " 'lect',\n",
       " 'noon',\n",
       " 'hurri',\n",
       " 'mid',\n",
       " 'user',\n",
       " 'none',\n",
       " 'app',\n",
       " 'numberi',\n",
       " 'other',\n",
       " 'goodnight',\n",
       " 'arriv',\n",
       " 'unless',\n",
       " 'mon',\n",
       " 'natur',\n",
       " 'excel',\n",
       " 'gay',\n",
       " 'add',\n",
       " 'numberg',\n",
       " 'al',\n",
       " 'meh',\n",
       " 'list',\n",
       " 'street',\n",
       " 'kinda',\n",
       " 'hiya',\n",
       " 'password',\n",
       " 'appreci',\n",
       " 'depend',\n",
       " 'mode',\n",
       " 'wear',\n",
       " 'mrt',\n",
       " 'round',\n",
       " 'ice',\n",
       " 'ive',\n",
       " 'digit',\n",
       " 'indian',\n",
       " 'power',\n",
       " 'subscrib',\n",
       " 'xy',\n",
       " 'thinkin',\n",
       " 'comuk',\n",
       " 'basic',\n",
       " 'lazi',\n",
       " 'cake',\n",
       " 'tampa',\n",
       " 'urself',\n",
       " 'total',\n",
       " 'colleagu',\n",
       " 'sunshin',\n",
       " 'sport',\n",
       " 'bb',\n",
       " 'chariti',\n",
       " 'accept',\n",
       " 'dvd',\n",
       " 'entitl',\n",
       " 'definit',\n",
       " 'quick',\n",
       " 'file',\n",
       " 'clear',\n",
       " 'respond',\n",
       " 'tear',\n",
       " 'king',\n",
       " 'troubl',\n",
       " 'ave',\n",
       " 'sens',\n",
       " 'celebr',\n",
       " 'cup',\n",
       " 'fullonsm',\n",
       " 'slept',\n",
       " 'futur',\n",
       " 'becom',\n",
       " 'experi',\n",
       " 'present',\n",
       " 'cinema',\n",
       " ...]"
      ]
     },
     "execution_count": 41,
     "metadata": {},
     "output_type": "execute_result"
    }
   ],
   "source": [
    "# use the top 1200 most common words as features\n",
    "temp"
   ]
  },
  {
   "cell_type": "markdown",
   "metadata": {},
   "source": [
    "#### TFIDF"
   ]
  },
  {
   "cell_type": "code",
   "execution_count": 42,
   "metadata": {
    "ExecuteTime": {
     "end_time": "2020-02-01T09:58:25.360867Z",
     "start_time": "2020-02-01T09:58:25.247657Z"
    }
   },
   "outputs": [],
   "source": [
    "from sklearn.feature_extraction.text import TfidfVectorizer"
   ]
  },
  {
   "cell_type": "code",
   "execution_count": 43,
   "metadata": {
    "ExecuteTime": {
     "end_time": "2020-02-01T09:58:25.584005Z",
     "start_time": "2020-02-01T09:58:25.362855Z"
    }
   },
   "outputs": [
    {
     "data": {
      "text/html": [
       "<div>\n",
       "<style scoped>\n",
       "    .dataframe tbody tr th:only-of-type {\n",
       "        vertical-align: middle;\n",
       "    }\n",
       "\n",
       "    .dataframe tbody tr th {\n",
       "        vertical-align: top;\n",
       "    }\n",
       "\n",
       "    .dataframe thead th {\n",
       "        text-align: right;\n",
       "    }\n",
       "</style>\n",
       "<table border=\"1\" class=\"dataframe\">\n",
       "  <thead>\n",
       "    <tr style=\"text-align: right;\">\n",
       "      <th></th>\n",
       "      <th>0</th>\n",
       "      <th>1</th>\n",
       "      <th>2</th>\n",
       "      <th>3</th>\n",
       "      <th>4</th>\n",
       "      <th>5</th>\n",
       "      <th>6</th>\n",
       "      <th>7</th>\n",
       "      <th>8</th>\n",
       "      <th>9</th>\n",
       "      <th>...</th>\n",
       "      <th>6504</th>\n",
       "      <th>6505</th>\n",
       "      <th>6506</th>\n",
       "      <th>6507</th>\n",
       "      <th>6508</th>\n",
       "      <th>6509</th>\n",
       "      <th>6510</th>\n",
       "      <th>6511</th>\n",
       "      <th>6512</th>\n",
       "      <th>6513</th>\n",
       "    </tr>\n",
       "  </thead>\n",
       "  <tbody>\n",
       "    <tr>\n",
       "      <th>0</th>\n",
       "      <td>0.0</td>\n",
       "      <td>0.0</td>\n",
       "      <td>0.0</td>\n",
       "      <td>0.0</td>\n",
       "      <td>0.0</td>\n",
       "      <td>0.0</td>\n",
       "      <td>0.0</td>\n",
       "      <td>0.0</td>\n",
       "      <td>0.0</td>\n",
       "      <td>0.0</td>\n",
       "      <td>...</td>\n",
       "      <td>0.0</td>\n",
       "      <td>0.0</td>\n",
       "      <td>0.0</td>\n",
       "      <td>0.0</td>\n",
       "      <td>0.0</td>\n",
       "      <td>0.0</td>\n",
       "      <td>0.0</td>\n",
       "      <td>0.0</td>\n",
       "      <td>0.0</td>\n",
       "      <td>0.0</td>\n",
       "    </tr>\n",
       "    <tr>\n",
       "      <th>1</th>\n",
       "      <td>0.0</td>\n",
       "      <td>0.0</td>\n",
       "      <td>0.0</td>\n",
       "      <td>0.0</td>\n",
       "      <td>0.0</td>\n",
       "      <td>0.0</td>\n",
       "      <td>0.0</td>\n",
       "      <td>0.0</td>\n",
       "      <td>0.0</td>\n",
       "      <td>0.0</td>\n",
       "      <td>...</td>\n",
       "      <td>0.0</td>\n",
       "      <td>0.0</td>\n",
       "      <td>0.0</td>\n",
       "      <td>0.0</td>\n",
       "      <td>0.0</td>\n",
       "      <td>0.0</td>\n",
       "      <td>0.0</td>\n",
       "      <td>0.0</td>\n",
       "      <td>0.0</td>\n",
       "      <td>0.0</td>\n",
       "    </tr>\n",
       "    <tr>\n",
       "      <th>2</th>\n",
       "      <td>0.0</td>\n",
       "      <td>0.0</td>\n",
       "      <td>0.0</td>\n",
       "      <td>0.0</td>\n",
       "      <td>0.0</td>\n",
       "      <td>0.0</td>\n",
       "      <td>0.0</td>\n",
       "      <td>0.0</td>\n",
       "      <td>0.0</td>\n",
       "      <td>0.0</td>\n",
       "      <td>...</td>\n",
       "      <td>0.0</td>\n",
       "      <td>0.0</td>\n",
       "      <td>0.0</td>\n",
       "      <td>0.0</td>\n",
       "      <td>0.0</td>\n",
       "      <td>0.0</td>\n",
       "      <td>0.0</td>\n",
       "      <td>0.0</td>\n",
       "      <td>0.0</td>\n",
       "      <td>0.0</td>\n",
       "    </tr>\n",
       "    <tr>\n",
       "      <th>3</th>\n",
       "      <td>0.0</td>\n",
       "      <td>0.0</td>\n",
       "      <td>0.0</td>\n",
       "      <td>0.0</td>\n",
       "      <td>0.0</td>\n",
       "      <td>0.0</td>\n",
       "      <td>0.0</td>\n",
       "      <td>0.0</td>\n",
       "      <td>0.0</td>\n",
       "      <td>0.0</td>\n",
       "      <td>...</td>\n",
       "      <td>0.0</td>\n",
       "      <td>0.0</td>\n",
       "      <td>0.0</td>\n",
       "      <td>0.0</td>\n",
       "      <td>0.0</td>\n",
       "      <td>0.0</td>\n",
       "      <td>0.0</td>\n",
       "      <td>0.0</td>\n",
       "      <td>0.0</td>\n",
       "      <td>0.0</td>\n",
       "    </tr>\n",
       "    <tr>\n",
       "      <th>4</th>\n",
       "      <td>0.0</td>\n",
       "      <td>0.0</td>\n",
       "      <td>0.0</td>\n",
       "      <td>0.0</td>\n",
       "      <td>0.0</td>\n",
       "      <td>0.0</td>\n",
       "      <td>0.0</td>\n",
       "      <td>0.0</td>\n",
       "      <td>0.0</td>\n",
       "      <td>0.0</td>\n",
       "      <td>...</td>\n",
       "      <td>0.0</td>\n",
       "      <td>0.0</td>\n",
       "      <td>0.0</td>\n",
       "      <td>0.0</td>\n",
       "      <td>0.0</td>\n",
       "      <td>0.0</td>\n",
       "      <td>0.0</td>\n",
       "      <td>0.0</td>\n",
       "      <td>0.0</td>\n",
       "      <td>0.0</td>\n",
       "    </tr>\n",
       "  </tbody>\n",
       "</table>\n",
       "<p>5 rows × 6514 columns</p>\n",
       "</div>"
      ],
      "text/plain": [
       "   0     1     2     3     4     5     6     7     8     9     ...  6504  \\\n",
       "0   0.0   0.0   0.0   0.0   0.0   0.0   0.0   0.0   0.0   0.0  ...   0.0   \n",
       "1   0.0   0.0   0.0   0.0   0.0   0.0   0.0   0.0   0.0   0.0  ...   0.0   \n",
       "2   0.0   0.0   0.0   0.0   0.0   0.0   0.0   0.0   0.0   0.0  ...   0.0   \n",
       "3   0.0   0.0   0.0   0.0   0.0   0.0   0.0   0.0   0.0   0.0  ...   0.0   \n",
       "4   0.0   0.0   0.0   0.0   0.0   0.0   0.0   0.0   0.0   0.0  ...   0.0   \n",
       "\n",
       "   6505  6506  6507  6508  6509  6510  6511  6512  6513  \n",
       "0   0.0   0.0   0.0   0.0   0.0   0.0   0.0   0.0   0.0  \n",
       "1   0.0   0.0   0.0   0.0   0.0   0.0   0.0   0.0   0.0  \n",
       "2   0.0   0.0   0.0   0.0   0.0   0.0   0.0   0.0   0.0  \n",
       "3   0.0   0.0   0.0   0.0   0.0   0.0   0.0   0.0   0.0  \n",
       "4   0.0   0.0   0.0   0.0   0.0   0.0   0.0   0.0   0.0  \n",
       "\n",
       "[5 rows x 6514 columns]"
      ]
     },
     "execution_count": 43,
     "metadata": {},
     "output_type": "execute_result"
    }
   ],
   "source": [
    "tfidf_model=TfidfVectorizer()\n",
    "tfidf_vec=tfidf_model.fit_transform(final_sms)\n",
    "tfidf_data=pd.DataFrame(tfidf_vec.toarray())\n",
    "tfidf_data.head()"
   ]
  },
  {
   "cell_type": "markdown",
   "metadata": {},
   "source": [
    "### Seprating Columns"
   ]
  },
  {
   "cell_type": "code",
   "execution_count": 44,
   "metadata": {
    "ExecuteTime": {
     "end_time": "2020-02-01T09:58:25.589007Z",
     "start_time": "2020-02-01T09:58:25.585006Z"
    }
   },
   "outputs": [
    {
     "data": {
      "text/plain": [
       "(4457, 2)"
      ]
     },
     "execution_count": 44,
     "metadata": {},
     "output_type": "execute_result"
    }
   ],
   "source": [
    "train.shape"
   ]
  },
  {
   "cell_type": "code",
   "execution_count": 45,
   "metadata": {
    "ExecuteTime": {
     "end_time": "2020-02-01T09:58:25.704102Z",
     "start_time": "2020-02-01T09:58:25.590008Z"
    }
   },
   "outputs": [
    {
     "data": {
      "text/plain": [
       "(1115, 1)"
      ]
     },
     "execution_count": 45,
     "metadata": {},
     "output_type": "execute_result"
    }
   ],
   "source": [
    "test.shape"
   ]
  },
  {
   "cell_type": "code",
   "execution_count": 46,
   "metadata": {
    "ExecuteTime": {
     "end_time": "2020-02-01T09:58:25.818283Z",
     "start_time": "2020-02-01T09:58:25.705105Z"
    }
   },
   "outputs": [],
   "source": [
    "df_test = tfidf_data.iloc[-1115:]"
   ]
  },
  {
   "cell_type": "code",
   "execution_count": 47,
   "metadata": {
    "ExecuteTime": {
     "end_time": "2020-02-01T09:58:25.913036Z",
     "start_time": "2020-02-01T09:58:25.820284Z"
    }
   },
   "outputs": [],
   "source": [
    "df_train = tfidf_data.iloc[:4457]"
   ]
  },
  {
   "cell_type": "code",
   "execution_count": 48,
   "metadata": {
    "ExecuteTime": {
     "end_time": "2020-02-01T09:58:26.025176Z",
     "start_time": "2020-02-01T09:58:25.914035Z"
    }
   },
   "outputs": [],
   "source": [
    "df_train['class_label'] = class_label"
   ]
  },
  {
   "cell_type": "code",
   "execution_count": 49,
   "metadata": {
    "ExecuteTime": {
     "end_time": "2020-02-01T09:58:26.155202Z",
     "start_time": "2020-02-01T09:58:26.02718Z"
    }
   },
   "outputs": [
    {
     "data": {
      "text/plain": [
       "(4457, 6515)"
      ]
     },
     "execution_count": 49,
     "metadata": {},
     "output_type": "execute_result"
    }
   ],
   "source": [
    "df_train.shape"
   ]
  },
  {
   "cell_type": "code",
   "execution_count": 50,
   "metadata": {
    "ExecuteTime": {
     "end_time": "2020-02-01T09:58:26.299497Z",
     "start_time": "2020-02-01T09:58:26.157205Z"
    }
   },
   "outputs": [
    {
     "data": {
      "text/html": [
       "<div>\n",
       "<style scoped>\n",
       "    .dataframe tbody tr th:only-of-type {\n",
       "        vertical-align: middle;\n",
       "    }\n",
       "\n",
       "    .dataframe tbody tr th {\n",
       "        vertical-align: top;\n",
       "    }\n",
       "\n",
       "    .dataframe thead th {\n",
       "        text-align: right;\n",
       "    }\n",
       "</style>\n",
       "<table border=\"1\" class=\"dataframe\">\n",
       "  <thead>\n",
       "    <tr style=\"text-align: right;\">\n",
       "      <th></th>\n",
       "      <th>0</th>\n",
       "      <th>1</th>\n",
       "      <th>2</th>\n",
       "      <th>3</th>\n",
       "      <th>4</th>\n",
       "      <th>5</th>\n",
       "      <th>6</th>\n",
       "      <th>7</th>\n",
       "      <th>8</th>\n",
       "      <th>9</th>\n",
       "      <th>...</th>\n",
       "      <th>6505</th>\n",
       "      <th>6506</th>\n",
       "      <th>6507</th>\n",
       "      <th>6508</th>\n",
       "      <th>6509</th>\n",
       "      <th>6510</th>\n",
       "      <th>6511</th>\n",
       "      <th>6512</th>\n",
       "      <th>6513</th>\n",
       "      <th>class_label</th>\n",
       "    </tr>\n",
       "  </thead>\n",
       "  <tbody>\n",
       "    <tr>\n",
       "      <th>0</th>\n",
       "      <td>0.0</td>\n",
       "      <td>0.0</td>\n",
       "      <td>0.0</td>\n",
       "      <td>0.0</td>\n",
       "      <td>0.0</td>\n",
       "      <td>0.0</td>\n",
       "      <td>0.0</td>\n",
       "      <td>0.0</td>\n",
       "      <td>0.0</td>\n",
       "      <td>0.0</td>\n",
       "      <td>...</td>\n",
       "      <td>0.0</td>\n",
       "      <td>0.0</td>\n",
       "      <td>0.0</td>\n",
       "      <td>0.0</td>\n",
       "      <td>0.0</td>\n",
       "      <td>0.0</td>\n",
       "      <td>0.0</td>\n",
       "      <td>0.0</td>\n",
       "      <td>0.0</td>\n",
       "      <td>spam</td>\n",
       "    </tr>\n",
       "    <tr>\n",
       "      <th>1</th>\n",
       "      <td>0.0</td>\n",
       "      <td>0.0</td>\n",
       "      <td>0.0</td>\n",
       "      <td>0.0</td>\n",
       "      <td>0.0</td>\n",
       "      <td>0.0</td>\n",
       "      <td>0.0</td>\n",
       "      <td>0.0</td>\n",
       "      <td>0.0</td>\n",
       "      <td>0.0</td>\n",
       "      <td>...</td>\n",
       "      <td>0.0</td>\n",
       "      <td>0.0</td>\n",
       "      <td>0.0</td>\n",
       "      <td>0.0</td>\n",
       "      <td>0.0</td>\n",
       "      <td>0.0</td>\n",
       "      <td>0.0</td>\n",
       "      <td>0.0</td>\n",
       "      <td>0.0</td>\n",
       "      <td>ham</td>\n",
       "    </tr>\n",
       "    <tr>\n",
       "      <th>2</th>\n",
       "      <td>0.0</td>\n",
       "      <td>0.0</td>\n",
       "      <td>0.0</td>\n",
       "      <td>0.0</td>\n",
       "      <td>0.0</td>\n",
       "      <td>0.0</td>\n",
       "      <td>0.0</td>\n",
       "      <td>0.0</td>\n",
       "      <td>0.0</td>\n",
       "      <td>0.0</td>\n",
       "      <td>...</td>\n",
       "      <td>0.0</td>\n",
       "      <td>0.0</td>\n",
       "      <td>0.0</td>\n",
       "      <td>0.0</td>\n",
       "      <td>0.0</td>\n",
       "      <td>0.0</td>\n",
       "      <td>0.0</td>\n",
       "      <td>0.0</td>\n",
       "      <td>0.0</td>\n",
       "      <td>ham</td>\n",
       "    </tr>\n",
       "    <tr>\n",
       "      <th>3</th>\n",
       "      <td>0.0</td>\n",
       "      <td>0.0</td>\n",
       "      <td>0.0</td>\n",
       "      <td>0.0</td>\n",
       "      <td>0.0</td>\n",
       "      <td>0.0</td>\n",
       "      <td>0.0</td>\n",
       "      <td>0.0</td>\n",
       "      <td>0.0</td>\n",
       "      <td>0.0</td>\n",
       "      <td>...</td>\n",
       "      <td>0.0</td>\n",
       "      <td>0.0</td>\n",
       "      <td>0.0</td>\n",
       "      <td>0.0</td>\n",
       "      <td>0.0</td>\n",
       "      <td>0.0</td>\n",
       "      <td>0.0</td>\n",
       "      <td>0.0</td>\n",
       "      <td>0.0</td>\n",
       "      <td>ham</td>\n",
       "    </tr>\n",
       "    <tr>\n",
       "      <th>4</th>\n",
       "      <td>0.0</td>\n",
       "      <td>0.0</td>\n",
       "      <td>0.0</td>\n",
       "      <td>0.0</td>\n",
       "      <td>0.0</td>\n",
       "      <td>0.0</td>\n",
       "      <td>0.0</td>\n",
       "      <td>0.0</td>\n",
       "      <td>0.0</td>\n",
       "      <td>0.0</td>\n",
       "      <td>...</td>\n",
       "      <td>0.0</td>\n",
       "      <td>0.0</td>\n",
       "      <td>0.0</td>\n",
       "      <td>0.0</td>\n",
       "      <td>0.0</td>\n",
       "      <td>0.0</td>\n",
       "      <td>0.0</td>\n",
       "      <td>0.0</td>\n",
       "      <td>0.0</td>\n",
       "      <td>ham</td>\n",
       "    </tr>\n",
       "    <tr>\n",
       "      <th>...</th>\n",
       "      <td>...</td>\n",
       "      <td>...</td>\n",
       "      <td>...</td>\n",
       "      <td>...</td>\n",
       "      <td>...</td>\n",
       "      <td>...</td>\n",
       "      <td>...</td>\n",
       "      <td>...</td>\n",
       "      <td>...</td>\n",
       "      <td>...</td>\n",
       "      <td>...</td>\n",
       "      <td>...</td>\n",
       "      <td>...</td>\n",
       "      <td>...</td>\n",
       "      <td>...</td>\n",
       "      <td>...</td>\n",
       "      <td>...</td>\n",
       "      <td>...</td>\n",
       "      <td>...</td>\n",
       "      <td>...</td>\n",
       "      <td>...</td>\n",
       "    </tr>\n",
       "    <tr>\n",
       "      <th>4452</th>\n",
       "      <td>0.0</td>\n",
       "      <td>0.0</td>\n",
       "      <td>0.0</td>\n",
       "      <td>0.0</td>\n",
       "      <td>0.0</td>\n",
       "      <td>0.0</td>\n",
       "      <td>0.0</td>\n",
       "      <td>0.0</td>\n",
       "      <td>0.0</td>\n",
       "      <td>0.0</td>\n",
       "      <td>...</td>\n",
       "      <td>0.0</td>\n",
       "      <td>0.0</td>\n",
       "      <td>0.0</td>\n",
       "      <td>0.0</td>\n",
       "      <td>0.0</td>\n",
       "      <td>0.0</td>\n",
       "      <td>0.0</td>\n",
       "      <td>0.0</td>\n",
       "      <td>0.0</td>\n",
       "      <td>ham</td>\n",
       "    </tr>\n",
       "    <tr>\n",
       "      <th>4453</th>\n",
       "      <td>0.0</td>\n",
       "      <td>0.0</td>\n",
       "      <td>0.0</td>\n",
       "      <td>0.0</td>\n",
       "      <td>0.0</td>\n",
       "      <td>0.0</td>\n",
       "      <td>0.0</td>\n",
       "      <td>0.0</td>\n",
       "      <td>0.0</td>\n",
       "      <td>0.0</td>\n",
       "      <td>...</td>\n",
       "      <td>0.0</td>\n",
       "      <td>0.0</td>\n",
       "      <td>0.0</td>\n",
       "      <td>0.0</td>\n",
       "      <td>0.0</td>\n",
       "      <td>0.0</td>\n",
       "      <td>0.0</td>\n",
       "      <td>0.0</td>\n",
       "      <td>0.0</td>\n",
       "      <td>ham</td>\n",
       "    </tr>\n",
       "    <tr>\n",
       "      <th>4454</th>\n",
       "      <td>0.0</td>\n",
       "      <td>0.0</td>\n",
       "      <td>0.0</td>\n",
       "      <td>0.0</td>\n",
       "      <td>0.0</td>\n",
       "      <td>0.0</td>\n",
       "      <td>0.0</td>\n",
       "      <td>0.0</td>\n",
       "      <td>0.0</td>\n",
       "      <td>0.0</td>\n",
       "      <td>...</td>\n",
       "      <td>0.0</td>\n",
       "      <td>0.0</td>\n",
       "      <td>0.0</td>\n",
       "      <td>0.0</td>\n",
       "      <td>0.0</td>\n",
       "      <td>0.0</td>\n",
       "      <td>0.0</td>\n",
       "      <td>0.0</td>\n",
       "      <td>0.0</td>\n",
       "      <td>ham</td>\n",
       "    </tr>\n",
       "    <tr>\n",
       "      <th>4455</th>\n",
       "      <td>0.0</td>\n",
       "      <td>0.0</td>\n",
       "      <td>0.0</td>\n",
       "      <td>0.0</td>\n",
       "      <td>0.0</td>\n",
       "      <td>0.0</td>\n",
       "      <td>0.0</td>\n",
       "      <td>0.0</td>\n",
       "      <td>0.0</td>\n",
       "      <td>0.0</td>\n",
       "      <td>...</td>\n",
       "      <td>0.0</td>\n",
       "      <td>0.0</td>\n",
       "      <td>0.0</td>\n",
       "      <td>0.0</td>\n",
       "      <td>0.0</td>\n",
       "      <td>0.0</td>\n",
       "      <td>0.0</td>\n",
       "      <td>0.0</td>\n",
       "      <td>0.0</td>\n",
       "      <td>ham</td>\n",
       "    </tr>\n",
       "    <tr>\n",
       "      <th>4456</th>\n",
       "      <td>0.0</td>\n",
       "      <td>0.0</td>\n",
       "      <td>0.0</td>\n",
       "      <td>0.0</td>\n",
       "      <td>0.0</td>\n",
       "      <td>0.0</td>\n",
       "      <td>0.0</td>\n",
       "      <td>0.0</td>\n",
       "      <td>0.0</td>\n",
       "      <td>0.0</td>\n",
       "      <td>...</td>\n",
       "      <td>0.0</td>\n",
       "      <td>0.0</td>\n",
       "      <td>0.0</td>\n",
       "      <td>0.0</td>\n",
       "      <td>0.0</td>\n",
       "      <td>0.0</td>\n",
       "      <td>0.0</td>\n",
       "      <td>0.0</td>\n",
       "      <td>0.0</td>\n",
       "      <td>ham</td>\n",
       "    </tr>\n",
       "  </tbody>\n",
       "</table>\n",
       "<p>4457 rows × 6515 columns</p>\n",
       "</div>"
      ],
      "text/plain": [
       "        0    1    2    3    4    5    6    7    8    9  ...  6505  6506  6507  \\\n",
       "0     0.0  0.0  0.0  0.0  0.0  0.0  0.0  0.0  0.0  0.0  ...   0.0   0.0   0.0   \n",
       "1     0.0  0.0  0.0  0.0  0.0  0.0  0.0  0.0  0.0  0.0  ...   0.0   0.0   0.0   \n",
       "2     0.0  0.0  0.0  0.0  0.0  0.0  0.0  0.0  0.0  0.0  ...   0.0   0.0   0.0   \n",
       "3     0.0  0.0  0.0  0.0  0.0  0.0  0.0  0.0  0.0  0.0  ...   0.0   0.0   0.0   \n",
       "4     0.0  0.0  0.0  0.0  0.0  0.0  0.0  0.0  0.0  0.0  ...   0.0   0.0   0.0   \n",
       "...   ...  ...  ...  ...  ...  ...  ...  ...  ...  ...  ...   ...   ...   ...   \n",
       "4452  0.0  0.0  0.0  0.0  0.0  0.0  0.0  0.0  0.0  0.0  ...   0.0   0.0   0.0   \n",
       "4453  0.0  0.0  0.0  0.0  0.0  0.0  0.0  0.0  0.0  0.0  ...   0.0   0.0   0.0   \n",
       "4454  0.0  0.0  0.0  0.0  0.0  0.0  0.0  0.0  0.0  0.0  ...   0.0   0.0   0.0   \n",
       "4455  0.0  0.0  0.0  0.0  0.0  0.0  0.0  0.0  0.0  0.0  ...   0.0   0.0   0.0   \n",
       "4456  0.0  0.0  0.0  0.0  0.0  0.0  0.0  0.0  0.0  0.0  ...   0.0   0.0   0.0   \n",
       "\n",
       "      6508  6509  6510  6511  6512  6513  class_label  \n",
       "0      0.0   0.0   0.0   0.0   0.0   0.0         spam  \n",
       "1      0.0   0.0   0.0   0.0   0.0   0.0          ham  \n",
       "2      0.0   0.0   0.0   0.0   0.0   0.0          ham  \n",
       "3      0.0   0.0   0.0   0.0   0.0   0.0          ham  \n",
       "4      0.0   0.0   0.0   0.0   0.0   0.0          ham  \n",
       "...    ...   ...   ...   ...   ...   ...          ...  \n",
       "4452   0.0   0.0   0.0   0.0   0.0   0.0          ham  \n",
       "4453   0.0   0.0   0.0   0.0   0.0   0.0          ham  \n",
       "4454   0.0   0.0   0.0   0.0   0.0   0.0          ham  \n",
       "4455   0.0   0.0   0.0   0.0   0.0   0.0          ham  \n",
       "4456   0.0   0.0   0.0   0.0   0.0   0.0          ham  \n",
       "\n",
       "[4457 rows x 6515 columns]"
      ]
     },
     "execution_count": 50,
     "metadata": {},
     "output_type": "execute_result"
    }
   ],
   "source": [
    "df_train"
   ]
  },
  {
   "cell_type": "markdown",
   "metadata": {},
   "source": [
    "## 5.) Model Building"
   ]
  },
  {
   "cell_type": "code",
   "execution_count": 51,
   "metadata": {
    "ExecuteTime": {
     "end_time": "2020-02-01T09:58:26.504895Z",
     "start_time": "2020-02-01T09:58:26.301498Z"
    }
   },
   "outputs": [],
   "source": [
    "X = df_train.drop('class_label',axis=1)\n",
    "Y = class_label"
   ]
  },
  {
   "cell_type": "code",
   "execution_count": 52,
   "metadata": {
    "ExecuteTime": {
     "end_time": "2020-02-01T09:58:27.316944Z",
     "start_time": "2020-02-01T09:58:27.224876Z"
    }
   },
   "outputs": [],
   "source": [
    "# splitting training data into train and validation using sklearn\n",
    "from sklearn import model_selection\n",
    "X_train,X_test,y_train,y_test = model_selection.train_test_split(X,Y,test_size=.2, random_state=42)"
   ]
  },
  {
   "cell_type": "code",
   "execution_count": 53,
   "metadata": {
    "ExecuteTime": {
     "end_time": "2020-02-01T09:58:27.428289Z",
     "start_time": "2020-02-01T09:58:27.424286Z"
    }
   },
   "outputs": [
    {
     "name": "stdout",
     "output_type": "stream",
     "text": [
      "3565\n",
      "892\n"
     ]
    }
   ],
   "source": [
    "print(len(X_train))\n",
    "print(len(X_test))"
   ]
  },
  {
   "cell_type": "markdown",
   "metadata": {},
   "source": [
    "### Import Evaluation metric"
   ]
  },
  {
   "cell_type": "code",
   "execution_count": 54,
   "metadata": {
    "ExecuteTime": {
     "end_time": "2020-02-01T09:58:27.782837Z",
     "start_time": "2020-02-01T09:58:27.778834Z"
    }
   },
   "outputs": [],
   "source": [
    "from sklearn.metrics import classification_report\n",
    "from sklearn.metrics import confusion_matrix\n",
    "from sklearn.metrics import f1_score"
   ]
  },
  {
   "cell_type": "markdown",
   "metadata": {},
   "source": [
    "### RandomForest"
   ]
  },
  {
   "cell_type": "code",
   "execution_count": 55,
   "metadata": {
    "ExecuteTime": {
     "end_time": "2020-02-01T09:58:28.190526Z",
     "start_time": "2020-02-01T09:58:28.144495Z"
    }
   },
   "outputs": [],
   "source": [
    "from sklearn.ensemble import RandomForestClassifier\n",
    "rfc_mod = RandomForestClassifier(n_estimators=50,max_depth=12, random_state=101,\n",
    "                             class_weight='balanced',verbose=1,n_jobs=-1)"
   ]
  },
  {
   "cell_type": "code",
   "execution_count": 56,
   "metadata": {
    "ExecuteTime": {
     "end_time": "2020-02-01T09:58:29.240198Z",
     "start_time": "2020-02-01T09:58:28.320853Z"
    }
   },
   "outputs": [
    {
     "name": "stderr",
     "output_type": "stream",
     "text": [
      "[Parallel(n_jobs=-1)]: Using backend ThreadingBackend with 4 concurrent workers.\n",
      "[Parallel(n_jobs=-1)]: Done  42 tasks      | elapsed:    0.6s\n",
      "[Parallel(n_jobs=-1)]: Done  50 out of  50 | elapsed:    0.7s finished\n"
     ]
    },
    {
     "data": {
      "text/plain": [
       "RandomForestClassifier(bootstrap=True, class_weight='balanced',\n",
       "                       criterion='gini', max_depth=12, max_features='auto',\n",
       "                       max_leaf_nodes=None, min_impurity_decrease=0.0,\n",
       "                       min_impurity_split=None, min_samples_leaf=1,\n",
       "                       min_samples_split=2, min_weight_fraction_leaf=0.0,\n",
       "                       n_estimators=50, n_jobs=-1, oob_score=False,\n",
       "                       random_state=101, verbose=1, warm_start=False)"
      ]
     },
     "execution_count": 56,
     "metadata": {},
     "output_type": "execute_result"
    }
   ],
   "source": [
    "rfc_mod.fit(X_train,y_train)"
   ]
  },
  {
   "cell_type": "code",
   "execution_count": 57,
   "metadata": {
    "ExecuteTime": {
     "end_time": "2020-02-01T09:58:29.371286Z",
     "start_time": "2020-02-01T09:58:29.2422Z"
    }
   },
   "outputs": [
    {
     "name": "stderr",
     "output_type": "stream",
     "text": [
      "[Parallel(n_jobs=4)]: Using backend ThreadingBackend with 4 concurrent workers.\n",
      "[Parallel(n_jobs=4)]: Done  42 tasks      | elapsed:    0.1s\n",
      "[Parallel(n_jobs=4)]: Done  50 out of  50 | elapsed:    0.1s finished\n"
     ]
    }
   ],
   "source": [
    "y_pred_rfc = rfc_mod.predict(X_test)"
   ]
  },
  {
   "cell_type": "code",
   "execution_count": 58,
   "metadata": {
    "ExecuteTime": {
     "end_time": "2020-02-01T09:58:29.402306Z",
     "start_time": "2020-02-01T09:58:29.373287Z"
    }
   },
   "outputs": [
    {
     "data": {
      "text/plain": [
       "array(['ham', 'spam', 'spam', 'ham', 'ham', 'ham', 'ham', 'ham', 'ham',\n",
       "       'ham', 'spam', 'ham', 'ham', 'ham', 'spam', 'ham', 'ham', 'ham',\n",
       "       'ham', 'ham', 'ham', 'ham', 'ham', 'ham', 'ham', 'spam', 'ham',\n",
       "       'ham', 'ham', 'ham', 'ham', 'ham', 'ham', 'ham', 'ham', 'ham',\n",
       "       'ham', 'ham', 'ham', 'ham', 'ham', 'ham', 'ham', 'spam', 'ham',\n",
       "       'ham', 'ham', 'ham', 'spam', 'ham', 'ham', 'ham', 'ham', 'ham',\n",
       "       'ham', 'ham', 'spam', 'ham', 'spam', 'ham', 'ham', 'ham', 'ham',\n",
       "       'ham', 'ham', 'ham', 'ham', 'ham', 'spam', 'spam', 'ham', 'ham',\n",
       "       'ham', 'ham', 'ham', 'ham', 'ham', 'ham', 'ham', 'ham', 'spam',\n",
       "       'ham', 'ham', 'ham', 'ham', 'ham', 'ham', 'ham', 'ham', 'ham',\n",
       "       'ham', 'spam', 'ham', 'ham', 'ham', 'spam', 'ham', 'ham', 'ham',\n",
       "       'spam', 'ham', 'ham', 'ham', 'ham', 'ham', 'spam', 'spam', 'ham',\n",
       "       'ham', 'ham', 'ham', 'ham', 'ham', 'ham', 'ham', 'ham', 'ham',\n",
       "       'ham', 'spam', 'ham', 'ham', 'spam', 'ham', 'ham', 'ham', 'ham',\n",
       "       'spam', 'ham', 'ham', 'ham', 'ham', 'ham', 'ham', 'ham', 'spam',\n",
       "       'ham', 'ham', 'ham', 'ham', 'ham', 'ham', 'ham', 'spam', 'spam',\n",
       "       'ham', 'ham', 'ham', 'ham', 'spam', 'ham', 'ham', 'ham', 'ham',\n",
       "       'ham', 'ham', 'ham', 'ham', 'ham', 'ham', 'ham', 'ham', 'ham',\n",
       "       'ham', 'ham', 'ham', 'ham', 'ham', 'ham', 'ham', 'ham', 'ham',\n",
       "       'spam', 'ham', 'ham', 'ham', 'ham', 'ham', 'ham', 'spam', 'ham',\n",
       "       'ham', 'ham', 'ham', 'spam', 'ham', 'spam', 'ham', 'ham', 'spam',\n",
       "       'ham', 'ham', 'ham', 'ham', 'ham', 'ham', 'spam', 'ham', 'ham',\n",
       "       'ham', 'ham', 'ham', 'ham', 'ham', 'ham', 'ham', 'ham', 'spam',\n",
       "       'ham', 'ham', 'ham', 'ham', 'ham', 'ham', 'ham', 'ham', 'ham',\n",
       "       'ham', 'spam', 'ham', 'ham', 'ham', 'ham', 'ham', 'ham', 'ham',\n",
       "       'ham', 'ham', 'ham', 'ham', 'ham', 'ham', 'spam', 'ham', 'ham',\n",
       "       'ham', 'ham', 'ham', 'ham', 'ham', 'ham', 'spam', 'ham', 'ham',\n",
       "       'ham', 'ham', 'spam', 'ham', 'spam', 'ham', 'ham', 'ham', 'ham',\n",
       "       'ham', 'ham', 'ham', 'ham', 'ham', 'ham', 'ham', 'ham', 'ham',\n",
       "       'ham', 'ham', 'ham', 'ham', 'ham', 'ham', 'ham', 'ham', 'spam',\n",
       "       'ham', 'ham', 'ham', 'ham', 'spam', 'ham', 'ham', 'ham', 'ham',\n",
       "       'ham', 'ham', 'ham', 'ham', 'ham', 'ham', 'ham', 'ham', 'ham',\n",
       "       'ham', 'ham', 'ham', 'ham', 'ham', 'ham', 'ham', 'spam', 'ham',\n",
       "       'ham', 'ham', 'ham', 'spam', 'ham', 'ham', 'ham', 'ham', 'ham',\n",
       "       'spam', 'ham', 'ham', 'ham', 'ham', 'spam', 'ham', 'ham', 'ham',\n",
       "       'ham', 'ham', 'spam', 'ham', 'ham', 'ham', 'spam', 'spam', 'ham',\n",
       "       'ham', 'ham', 'ham', 'ham', 'ham', 'ham', 'ham', 'ham', 'ham',\n",
       "       'ham', 'ham', 'ham', 'ham', 'ham', 'ham', 'ham', 'ham', 'spam',\n",
       "       'spam', 'ham', 'spam', 'ham', 'ham', 'ham', 'ham', 'ham', 'ham',\n",
       "       'ham', 'ham', 'spam', 'ham', 'spam', 'ham', 'ham', 'ham', 'ham',\n",
       "       'ham', 'spam', 'ham', 'ham', 'ham', 'ham', 'ham', 'ham', 'ham',\n",
       "       'ham', 'ham', 'ham', 'ham', 'ham', 'ham', 'ham', 'ham', 'spam',\n",
       "       'ham', 'spam', 'ham', 'ham', 'ham', 'ham', 'ham', 'ham', 'ham',\n",
       "       'ham', 'ham', 'ham', 'spam', 'ham', 'ham', 'ham', 'ham', 'ham',\n",
       "       'spam', 'ham', 'ham', 'ham', 'ham', 'ham', 'ham', 'ham', 'ham',\n",
       "       'ham', 'spam', 'ham', 'ham', 'ham', 'ham', 'spam', 'spam', 'ham',\n",
       "       'ham', 'spam', 'ham', 'ham', 'ham', 'ham', 'ham', 'spam', 'ham',\n",
       "       'ham', 'ham', 'ham', 'ham', 'ham', 'ham', 'ham', 'ham', 'ham',\n",
       "       'ham', 'ham', 'ham', 'ham', 'ham', 'spam', 'ham', 'ham', 'ham',\n",
       "       'ham', 'ham', 'ham', 'ham', 'ham', 'ham', 'ham', 'ham', 'spam',\n",
       "       'ham', 'ham', 'ham', 'ham', 'ham', 'ham', 'ham', 'ham', 'ham',\n",
       "       'ham', 'ham', 'ham', 'ham', 'ham', 'ham', 'ham', 'ham', 'ham',\n",
       "       'ham', 'ham', 'spam', 'ham', 'ham', 'ham', 'ham', 'ham', 'ham',\n",
       "       'spam', 'ham', 'ham', 'ham', 'ham', 'ham', 'ham', 'ham', 'ham',\n",
       "       'ham', 'ham', 'ham', 'ham', 'ham', 'ham', 'ham', 'ham', 'spam',\n",
       "       'ham', 'ham', 'ham', 'ham', 'ham', 'spam', 'ham', 'ham', 'ham',\n",
       "       'ham', 'ham', 'spam', 'ham', 'ham', 'ham', 'ham', 'spam', 'ham',\n",
       "       'ham', 'ham', 'ham', 'ham', 'ham', 'spam', 'ham', 'spam', 'ham',\n",
       "       'ham', 'spam', 'ham', 'spam', 'ham', 'ham', 'spam', 'ham', 'ham',\n",
       "       'ham', 'ham', 'ham', 'ham', 'ham', 'ham', 'ham', 'ham', 'ham',\n",
       "       'ham', 'ham', 'ham', 'spam', 'ham', 'spam', 'ham', 'ham', 'ham',\n",
       "       'ham', 'ham', 'ham', 'ham', 'ham', 'ham', 'ham', 'ham', 'ham',\n",
       "       'ham', 'ham', 'ham', 'ham', 'ham', 'ham', 'ham', 'ham', 'ham',\n",
       "       'ham', 'ham', 'ham', 'ham', 'ham', 'ham', 'ham', 'spam', 'spam',\n",
       "       'ham', 'ham', 'ham', 'ham', 'ham', 'ham', 'ham', 'ham', 'ham',\n",
       "       'ham', 'ham', 'ham', 'ham', 'spam', 'ham', 'ham', 'spam', 'ham',\n",
       "       'ham', 'ham', 'ham', 'ham', 'ham', 'ham', 'ham', 'ham', 'ham',\n",
       "       'ham', 'spam', 'ham', 'ham', 'ham', 'ham', 'ham', 'ham', 'ham',\n",
       "       'spam', 'ham', 'ham', 'ham', 'ham', 'ham', 'ham', 'ham', 'ham',\n",
       "       'ham', 'ham', 'ham', 'ham', 'spam', 'ham', 'ham', 'spam', 'ham',\n",
       "       'ham', 'ham', 'ham', 'ham', 'ham', 'ham', 'ham', 'ham', 'ham',\n",
       "       'spam', 'ham', 'ham', 'ham', 'spam', 'ham', 'ham', 'ham', 'ham',\n",
       "       'ham', 'ham', 'ham', 'ham', 'ham', 'ham', 'ham', 'ham', 'ham',\n",
       "       'ham', 'ham', 'ham', 'ham', 'ham', 'ham', 'spam', 'ham', 'ham',\n",
       "       'ham', 'ham', 'ham', 'ham', 'ham', 'ham', 'ham', 'ham', 'ham',\n",
       "       'ham', 'spam', 'spam', 'ham', 'ham', 'ham', 'ham', 'ham', 'ham',\n",
       "       'ham', 'ham', 'ham', 'ham', 'ham', 'ham', 'ham', 'ham', 'spam',\n",
       "       'ham', 'spam', 'ham', 'spam', 'ham', 'spam', 'ham', 'ham', 'ham',\n",
       "       'ham', 'spam', 'ham', 'ham', 'ham', 'ham', 'ham', 'spam', 'ham',\n",
       "       'ham', 'ham', 'ham', 'ham', 'ham', 'ham', 'spam', 'ham', 'spam',\n",
       "       'ham', 'ham', 'ham', 'ham', 'ham', 'ham', 'ham', 'ham', 'ham',\n",
       "       'ham', 'ham', 'ham', 'spam', 'ham', 'spam', 'ham', 'spam', 'ham',\n",
       "       'ham', 'ham', 'ham', 'ham', 'ham', 'ham', 'ham', 'ham', 'ham',\n",
       "       'ham', 'ham', 'ham', 'ham', 'ham', 'ham', 'ham', 'ham', 'ham',\n",
       "       'ham', 'ham', 'spam', 'ham', 'ham', 'ham', 'ham', 'ham', 'ham',\n",
       "       'ham', 'ham', 'ham', 'spam', 'ham', 'ham', 'ham', 'ham', 'ham',\n",
       "       'ham', 'ham', 'spam', 'ham', 'ham', 'ham', 'ham', 'ham', 'ham',\n",
       "       'ham', 'ham', 'ham', 'ham', 'ham', 'ham', 'ham', 'spam', 'ham',\n",
       "       'ham', 'ham', 'ham', 'ham', 'ham', 'ham', 'ham', 'ham', 'spam',\n",
       "       'ham', 'spam', 'ham', 'ham', 'ham', 'spam', 'ham', 'ham', 'ham',\n",
       "       'ham', 'ham', 'ham', 'ham', 'spam', 'ham', 'ham', 'ham', 'ham',\n",
       "       'spam', 'ham', 'ham', 'ham', 'ham', 'spam', 'ham', 'ham', 'ham',\n",
       "       'ham', 'ham', 'ham', 'ham', 'ham', 'ham', 'ham', 'ham', 'ham',\n",
       "       'ham', 'ham', 'ham', 'ham', 'ham', 'ham', 'ham', 'ham', 'ham',\n",
       "       'ham', 'spam', 'ham', 'spam', 'ham', 'ham', 'ham', 'ham', 'ham',\n",
       "       'ham', 'ham', 'ham', 'ham', 'ham', 'ham', 'ham', 'ham', 'ham',\n",
       "       'ham', 'ham', 'ham', 'ham', 'ham', 'ham', 'ham', 'spam', 'ham',\n",
       "       'ham', 'ham', 'ham', 'ham', 'spam', 'ham', 'ham', 'ham', 'ham',\n",
       "       'ham', 'spam', 'ham', 'ham', 'ham', 'spam', 'ham', 'ham', 'ham',\n",
       "       'ham'], dtype=object)"
      ]
     },
     "execution_count": 58,
     "metadata": {},
     "output_type": "execute_result"
    }
   ],
   "source": [
    "y_pred_rfc "
   ]
  },
  {
   "cell_type": "code",
   "execution_count": 59,
   "metadata": {
    "ExecuteTime": {
     "end_time": "2020-02-01T09:58:29.529595Z",
     "start_time": "2020-02-01T09:58:29.404307Z"
    }
   },
   "outputs": [
    {
     "name": "stdout",
     "output_type": "stream",
     "text": [
      "F1 Score : 0.9835627398704002\n",
      "Report:\n",
      "               precision    recall  f1-score   support\n",
      "\n",
      "         ham       0.98      1.00      0.99       764\n",
      "        spam       0.99      0.89      0.94       128\n",
      "\n",
      "    accuracy                           0.98       892\n",
      "   macro avg       0.99      0.94      0.96       892\n",
      "weighted avg       0.98      0.98      0.98       892\n",
      "\n",
      "Confusion Matrix: \n",
      " [[763   1]\n",
      " [ 14 114]]\n"
     ]
    }
   ],
   "source": [
    "print(\"F1 Score :\",f1_score(y_pred_rfc,y_test,average = \"weighted\"))\n",
    "print('Report:\\n',classification_report(y_test, y_pred_rfc))\n",
    "print('Confusion Matrix: \\n',confusion_matrix(y_test, y_pred_rfc))"
   ]
  },
  {
   "cell_type": "code",
   "execution_count": 60,
   "metadata": {
    "ExecuteTime": {
     "end_time": "2020-02-01T09:58:29.763997Z",
     "start_time": "2020-02-01T09:58:29.531597Z"
    }
   },
   "outputs": [
    {
     "name": "stderr",
     "output_type": "stream",
     "text": [
      "[Parallel(n_jobs=4)]: Using backend ThreadingBackend with 4 concurrent workers.\n",
      "[Parallel(n_jobs=4)]: Done  42 tasks      | elapsed:    0.0s\n",
      "[Parallel(n_jobs=4)]: Done  50 out of  50 | elapsed:    0.0s finished\n"
     ]
    }
   ],
   "source": [
    "rfc_predicted = rfc_mod.predict(df_test)"
   ]
  },
  {
   "cell_type": "code",
   "execution_count": 61,
   "metadata": {
    "ExecuteTime": {
     "end_time": "2020-02-01T09:58:29.776004Z",
     "start_time": "2020-02-01T09:58:29.765997Z"
    }
   },
   "outputs": [],
   "source": [
    "test_predicted= pd.DataFrame()\n",
    "test_predicted['class_label'] = rfc_predicted\n",
    "test_predicted.to_csv('test_predicted_rfc.csv',index=False)"
   ]
  },
  {
   "cell_type": "markdown",
   "metadata": {},
   "source": [
    "### Decision Tree"
   ]
  },
  {
   "cell_type": "code",
   "execution_count": 62,
   "metadata": {
    "ExecuteTime": {
     "end_time": "2020-02-01T09:58:29.900711Z",
     "start_time": "2020-02-01T09:58:29.778005Z"
    }
   },
   "outputs": [],
   "source": [
    "from sklearn.tree import DecisionTreeClassifier"
   ]
  },
  {
   "cell_type": "code",
   "execution_count": 63,
   "metadata": {
    "ExecuteTime": {
     "end_time": "2020-02-01T09:58:31.557964Z",
     "start_time": "2020-02-01T09:58:29.90271Z"
    }
   },
   "outputs": [],
   "source": [
    "dectre_mod = DecisionTreeClassifier(random_state=42, max_depth=5, min_samples_split=5).fit(X_train, y_train)"
   ]
  },
  {
   "cell_type": "code",
   "execution_count": 64,
   "metadata": {
    "ExecuteTime": {
     "end_time": "2020-02-01T09:58:33.052951Z",
     "start_time": "2020-02-01T09:58:31.559964Z"
    }
   },
   "outputs": [
    {
     "data": {
      "text/plain": [
       "DecisionTreeClassifier(class_weight=None, criterion='gini', max_depth=5,\n",
       "                       max_features=None, max_leaf_nodes=None,\n",
       "                       min_impurity_decrease=0.0, min_impurity_split=None,\n",
       "                       min_samples_leaf=1, min_samples_split=5,\n",
       "                       min_weight_fraction_leaf=0.0, presort=False,\n",
       "                       random_state=42, splitter='best')"
      ]
     },
     "execution_count": 64,
     "metadata": {},
     "output_type": "execute_result"
    }
   ],
   "source": [
    "dectre_mod.fit(X_train,y_train)"
   ]
  },
  {
   "cell_type": "code",
   "execution_count": 65,
   "metadata": {
    "ExecuteTime": {
     "end_time": "2020-02-01T09:58:33.07997Z",
     "start_time": "2020-02-01T09:58:33.054952Z"
    }
   },
   "outputs": [],
   "source": [
    "y_pred_dectre = dectre_mod.predict(X_test)"
   ]
  },
  {
   "cell_type": "code",
   "execution_count": 66,
   "metadata": {
    "ExecuteTime": {
     "end_time": "2020-02-01T09:58:33.22929Z",
     "start_time": "2020-02-01T09:58:33.081971Z"
    }
   },
   "outputs": [
    {
     "data": {
      "text/plain": [
       "array(['ham', 'spam', 'spam', 'ham', 'ham', 'ham', 'ham', 'ham', 'ham',\n",
       "       'ham', 'ham', 'ham', 'ham', 'ham', 'spam', 'ham', 'ham', 'ham',\n",
       "       'ham', 'ham', 'ham', 'ham', 'ham', 'ham', 'ham', 'spam', 'ham',\n",
       "       'ham', 'ham', 'ham', 'ham', 'ham', 'ham', 'ham', 'ham', 'ham',\n",
       "       'ham', 'ham', 'ham', 'ham', 'ham', 'ham', 'ham', 'ham', 'ham',\n",
       "       'ham', 'ham', 'ham', 'spam', 'ham', 'ham', 'ham', 'ham', 'ham',\n",
       "       'ham', 'ham', 'spam', 'ham', 'ham', 'ham', 'ham', 'ham', 'ham',\n",
       "       'ham', 'ham', 'ham', 'ham', 'ham', 'spam', 'spam', 'ham', 'ham',\n",
       "       'ham', 'ham', 'ham', 'ham', 'ham', 'ham', 'ham', 'ham', 'spam',\n",
       "       'ham', 'ham', 'ham', 'ham', 'ham', 'ham', 'ham', 'ham', 'ham',\n",
       "       'ham', 'spam', 'ham', 'ham', 'ham', 'spam', 'ham', 'ham', 'ham',\n",
       "       'spam', 'ham', 'ham', 'ham', 'ham', 'ham', 'spam', 'spam', 'ham',\n",
       "       'ham', 'ham', 'spam', 'ham', 'ham', 'spam', 'ham', 'ham', 'ham',\n",
       "       'spam', 'spam', 'ham', 'ham', 'spam', 'ham', 'ham', 'ham', 'ham',\n",
       "       'spam', 'ham', 'ham', 'ham', 'ham', 'ham', 'ham', 'ham', 'spam',\n",
       "       'ham', 'ham', 'ham', 'ham', 'ham', 'ham', 'ham', 'spam', 'spam',\n",
       "       'ham', 'ham', 'ham', 'ham', 'spam', 'ham', 'ham', 'ham', 'ham',\n",
       "       'ham', 'ham', 'ham', 'ham', 'ham', 'ham', 'ham', 'ham', 'ham',\n",
       "       'ham', 'ham', 'ham', 'ham', 'ham', 'ham', 'ham', 'ham', 'ham',\n",
       "       'spam', 'ham', 'ham', 'ham', 'ham', 'ham', 'ham', 'spam', 'ham',\n",
       "       'ham', 'ham', 'ham', 'spam', 'ham', 'spam', 'ham', 'ham', 'spam',\n",
       "       'ham', 'spam', 'ham', 'ham', 'ham', 'ham', 'spam', 'ham', 'ham',\n",
       "       'ham', 'ham', 'ham', 'ham', 'ham', 'ham', 'ham', 'ham', 'spam',\n",
       "       'ham', 'ham', 'ham', 'ham', 'ham', 'ham', 'ham', 'ham', 'ham',\n",
       "       'ham', 'spam', 'ham', 'ham', 'ham', 'ham', 'ham', 'ham', 'ham',\n",
       "       'ham', 'ham', 'ham', 'ham', 'ham', 'ham', 'spam', 'ham', 'ham',\n",
       "       'ham', 'ham', 'ham', 'ham', 'ham', 'ham', 'spam', 'ham', 'ham',\n",
       "       'ham', 'ham', 'spam', 'ham', 'spam', 'ham', 'ham', 'ham', 'ham',\n",
       "       'ham', 'ham', 'spam', 'ham', 'ham', 'ham', 'ham', 'ham', 'ham',\n",
       "       'ham', 'ham', 'ham', 'ham', 'ham', 'ham', 'ham', 'ham', 'spam',\n",
       "       'ham', 'ham', 'ham', 'ham', 'spam', 'ham', 'ham', 'ham', 'ham',\n",
       "       'ham', 'ham', 'ham', 'ham', 'ham', 'ham', 'ham', 'ham', 'ham',\n",
       "       'ham', 'ham', 'ham', 'ham', 'ham', 'ham', 'ham', 'spam', 'ham',\n",
       "       'ham', 'ham', 'ham', 'spam', 'ham', 'ham', 'ham', 'ham', 'ham',\n",
       "       'spam', 'ham', 'ham', 'ham', 'ham', 'spam', 'ham', 'ham', 'ham',\n",
       "       'ham', 'ham', 'ham', 'ham', 'ham', 'ham', 'spam', 'spam', 'ham',\n",
       "       'ham', 'ham', 'ham', 'ham', 'ham', 'ham', 'ham', 'ham', 'ham',\n",
       "       'ham', 'ham', 'ham', 'ham', 'ham', 'ham', 'ham', 'ham', 'spam',\n",
       "       'ham', 'ham', 'ham', 'ham', 'ham', 'spam', 'ham', 'ham', 'ham',\n",
       "       'ham', 'ham', 'spam', 'ham', 'ham', 'ham', 'ham', 'ham', 'ham',\n",
       "       'ham', 'spam', 'ham', 'ham', 'ham', 'ham', 'ham', 'ham', 'ham',\n",
       "       'ham', 'ham', 'ham', 'ham', 'ham', 'ham', 'ham', 'ham', 'spam',\n",
       "       'spam', 'spam', 'ham', 'ham', 'ham', 'ham', 'ham', 'ham', 'ham',\n",
       "       'ham', 'ham', 'ham', 'spam', 'ham', 'ham', 'ham', 'ham', 'ham',\n",
       "       'spam', 'ham', 'ham', 'ham', 'ham', 'ham', 'ham', 'ham', 'ham',\n",
       "       'ham', 'ham', 'ham', 'ham', 'ham', 'ham', 'spam', 'spam', 'ham',\n",
       "       'ham', 'spam', 'ham', 'ham', 'ham', 'ham', 'ham', 'spam', 'ham',\n",
       "       'ham', 'ham', 'ham', 'ham', 'ham', 'ham', 'ham', 'ham', 'ham',\n",
       "       'ham', 'ham', 'ham', 'ham', 'ham', 'spam', 'ham', 'ham', 'ham',\n",
       "       'ham', 'ham', 'ham', 'ham', 'ham', 'ham', 'ham', 'ham', 'ham',\n",
       "       'ham', 'ham', 'ham', 'ham', 'ham', 'ham', 'ham', 'ham', 'ham',\n",
       "       'ham', 'ham', 'ham', 'ham', 'ham', 'ham', 'ham', 'ham', 'ham',\n",
       "       'ham', 'ham', 'spam', 'ham', 'ham', 'ham', 'ham', 'ham', 'ham',\n",
       "       'spam', 'ham', 'ham', 'ham', 'ham', 'ham', 'ham', 'ham', 'ham',\n",
       "       'ham', 'ham', 'ham', 'ham', 'ham', 'ham', 'ham', 'ham', 'spam',\n",
       "       'ham', 'ham', 'ham', 'ham', 'spam', 'spam', 'ham', 'ham', 'ham',\n",
       "       'ham', 'spam', 'spam', 'ham', 'ham', 'ham', 'ham', 'ham', 'ham',\n",
       "       'ham', 'ham', 'ham', 'ham', 'ham', 'spam', 'ham', 'spam', 'ham',\n",
       "       'ham', 'spam', 'ham', 'spam', 'ham', 'ham', 'spam', 'ham', 'ham',\n",
       "       'ham', 'ham', 'ham', 'ham', 'ham', 'ham', 'ham', 'ham', 'ham',\n",
       "       'ham', 'ham', 'ham', 'spam', 'ham', 'spam', 'ham', 'ham', 'ham',\n",
       "       'ham', 'ham', 'ham', 'ham', 'ham', 'ham', 'ham', 'ham', 'ham',\n",
       "       'ham', 'ham', 'ham', 'ham', 'ham', 'ham', 'ham', 'ham', 'ham',\n",
       "       'ham', 'ham', 'ham', 'ham', 'ham', 'ham', 'ham', 'spam', 'spam',\n",
       "       'ham', 'ham', 'ham', 'ham', 'ham', 'ham', 'ham', 'ham', 'ham',\n",
       "       'ham', 'ham', 'ham', 'ham', 'spam', 'ham', 'ham', 'spam', 'ham',\n",
       "       'ham', 'ham', 'ham', 'ham', 'ham', 'ham', 'ham', 'spam', 'ham',\n",
       "       'ham', 'spam', 'ham', 'spam', 'ham', 'ham', 'ham', 'ham', 'ham',\n",
       "       'spam', 'ham', 'ham', 'ham', 'ham', 'ham', 'ham', 'ham', 'ham',\n",
       "       'ham', 'ham', 'ham', 'spam', 'spam', 'ham', 'ham', 'ham', 'ham',\n",
       "       'ham', 'ham', 'ham', 'ham', 'ham', 'ham', 'ham', 'ham', 'ham',\n",
       "       'spam', 'ham', 'ham', 'ham', 'spam', 'ham', 'ham', 'ham', 'ham',\n",
       "       'ham', 'ham', 'ham', 'ham', 'ham', 'ham', 'ham', 'ham', 'ham',\n",
       "       'ham', 'ham', 'ham', 'ham', 'ham', 'ham', 'spam', 'ham', 'ham',\n",
       "       'ham', 'ham', 'ham', 'ham', 'ham', 'ham', 'ham', 'ham', 'ham',\n",
       "       'ham', 'spam', 'spam', 'ham', 'ham', 'ham', 'ham', 'ham', 'ham',\n",
       "       'spam', 'ham', 'ham', 'ham', 'ham', 'ham', 'ham', 'ham', 'spam',\n",
       "       'ham', 'ham', 'ham', 'spam', 'ham', 'spam', 'ham', 'ham', 'ham',\n",
       "       'ham', 'ham', 'ham', 'ham', 'ham', 'ham', 'ham', 'spam', 'ham',\n",
       "       'ham', 'ham', 'ham', 'ham', 'ham', 'ham', 'spam', 'ham', 'spam',\n",
       "       'ham', 'ham', 'ham', 'ham', 'ham', 'ham', 'ham', 'ham', 'ham',\n",
       "       'ham', 'ham', 'ham', 'ham', 'ham', 'spam', 'ham', 'spam', 'ham',\n",
       "       'ham', 'ham', 'ham', 'ham', 'ham', 'ham', 'ham', 'ham', 'ham',\n",
       "       'ham', 'ham', 'ham', 'ham', 'ham', 'ham', 'ham', 'ham', 'ham',\n",
       "       'ham', 'ham', 'spam', 'ham', 'ham', 'ham', 'ham', 'ham', 'ham',\n",
       "       'ham', 'ham', 'ham', 'spam', 'ham', 'ham', 'ham', 'ham', 'ham',\n",
       "       'ham', 'spam', 'spam', 'ham', 'ham', 'ham', 'ham', 'ham', 'ham',\n",
       "       'ham', 'ham', 'ham', 'ham', 'ham', 'ham', 'ham', 'spam', 'ham',\n",
       "       'ham', 'ham', 'ham', 'ham', 'ham', 'ham', 'ham', 'ham', 'spam',\n",
       "       'ham', 'spam', 'ham', 'ham', 'ham', 'ham', 'ham', 'ham', 'ham',\n",
       "       'ham', 'ham', 'ham', 'ham', 'spam', 'ham', 'ham', 'ham', 'ham',\n",
       "       'spam', 'ham', 'ham', 'ham', 'ham', 'spam', 'ham', 'ham', 'ham',\n",
       "       'ham', 'ham', 'ham', 'ham', 'ham', 'ham', 'ham', 'ham', 'ham',\n",
       "       'ham', 'ham', 'ham', 'ham', 'ham', 'ham', 'ham', 'ham', 'ham',\n",
       "       'ham', 'ham', 'ham', 'spam', 'ham', 'ham', 'ham', 'ham', 'ham',\n",
       "       'ham', 'ham', 'ham', 'ham', 'ham', 'ham', 'ham', 'ham', 'ham',\n",
       "       'ham', 'ham', 'ham', 'ham', 'ham', 'ham', 'ham', 'spam', 'ham',\n",
       "       'ham', 'ham', 'ham', 'ham', 'spam', 'ham', 'ham', 'ham', 'ham',\n",
       "       'ham', 'ham', 'ham', 'ham', 'ham', 'spam', 'ham', 'ham', 'ham',\n",
       "       'ham'], dtype=object)"
      ]
     },
     "execution_count": 66,
     "metadata": {},
     "output_type": "execute_result"
    }
   ],
   "source": [
    "y_pred_dectre"
   ]
  },
  {
   "cell_type": "code",
   "execution_count": 67,
   "metadata": {
    "ExecuteTime": {
     "end_time": "2020-02-01T09:58:33.373721Z",
     "start_time": "2020-02-01T09:58:33.230289Z"
    }
   },
   "outputs": [
    {
     "name": "stdout",
     "output_type": "stream",
     "text": [
      "F1 Score : 0.9651354972621732\n",
      "Report:\n",
      "               precision    recall  f1-score   support\n",
      "\n",
      "         ham       0.97      0.99      0.98       764\n",
      "        spam       0.93      0.81      0.87       128\n",
      "\n",
      "    accuracy                           0.96       892\n",
      "   macro avg       0.95      0.90      0.92       892\n",
      "weighted avg       0.96      0.96      0.96       892\n",
      "\n",
      "Confusion Matrix: \n",
      " [[756   8]\n",
      " [ 24 104]]\n"
     ]
    }
   ],
   "source": [
    "print(\"F1 Score :\",f1_score(y_pred_dectre,y_test,average = \"weighted\"))\n",
    "print('Report:\\n',classification_report(y_test, y_pred_dectre))\n",
    "print('Confusion Matrix: \\n',confusion_matrix(y_test, y_pred_dectre))"
   ]
  },
  {
   "cell_type": "code",
   "execution_count": 68,
   "metadata": {
    "ExecuteTime": {
     "end_time": "2020-02-01T09:58:33.465825Z",
     "start_time": "2020-02-01T09:58:33.375721Z"
    }
   },
   "outputs": [],
   "source": [
    "dectre_predicted = dectre_mod.predict(df_test)"
   ]
  },
  {
   "cell_type": "code",
   "execution_count": 69,
   "metadata": {
    "ExecuteTime": {
     "end_time": "2020-02-01T09:58:33.550838Z",
     "start_time": "2020-02-01T09:58:33.467825Z"
    }
   },
   "outputs": [],
   "source": [
    "test_predicted= pd.DataFrame()\n",
    "test_predicted['class_label'] = dectre_predicted\n",
    "test_predicted.to_csv('test_predicted_DecisionTree.csv',index=False)"
   ]
  },
  {
   "cell_type": "markdown",
   "metadata": {},
   "source": [
    "### Logistic Regression"
   ]
  },
  {
   "cell_type": "code",
   "execution_count": 70,
   "metadata": {
    "ExecuteTime": {
     "end_time": "2020-02-01T09:58:33.687709Z",
     "start_time": "2020-02-01T09:58:33.551838Z"
    }
   },
   "outputs": [],
   "source": [
    "from sklearn.linear_model import LogisticRegression"
   ]
  },
  {
   "cell_type": "code",
   "execution_count": 71,
   "metadata": {
    "ExecuteTime": {
     "end_time": "2020-02-01T09:58:33.926447Z",
     "start_time": "2020-02-01T09:58:33.68971Z"
    }
   },
   "outputs": [],
   "source": [
    "logreg_mod = LogisticRegression(random_state=42).fit(X_train, y_train)"
   ]
  },
  {
   "cell_type": "code",
   "execution_count": 72,
   "metadata": {
    "ExecuteTime": {
     "end_time": "2020-02-01T09:58:33.953463Z",
     "start_time": "2020-02-01T09:58:33.928448Z"
    }
   },
   "outputs": [],
   "source": [
    "y_pred_logreg = logreg_mod.predict(X_test)"
   ]
  },
  {
   "cell_type": "code",
   "execution_count": 73,
   "metadata": {
    "ExecuteTime": {
     "end_time": "2020-02-01T09:58:34.085756Z",
     "start_time": "2020-02-01T09:58:33.955464Z"
    }
   },
   "outputs": [
    {
     "data": {
      "text/plain": [
       "array(['ham', 'ham', 'spam', 'ham', 'ham', 'ham', 'ham', 'ham', 'ham',\n",
       "       'ham', 'ham', 'ham', 'ham', 'ham', 'spam', 'ham', 'ham', 'ham',\n",
       "       'ham', 'ham', 'ham', 'ham', 'ham', 'ham', 'ham', 'spam', 'ham',\n",
       "       'ham', 'ham', 'ham', 'ham', 'ham', 'ham', 'ham', 'ham', 'ham',\n",
       "       'ham', 'ham', 'ham', 'ham', 'ham', 'ham', 'ham', 'spam', 'ham',\n",
       "       'ham', 'ham', 'ham', 'spam', 'ham', 'ham', 'ham', 'ham', 'ham',\n",
       "       'ham', 'ham', 'spam', 'ham', 'spam', 'ham', 'ham', 'ham', 'ham',\n",
       "       'ham', 'ham', 'ham', 'ham', 'ham', 'spam', 'spam', 'ham', 'ham',\n",
       "       'ham', 'ham', 'ham', 'ham', 'ham', 'ham', 'ham', 'ham', 'spam',\n",
       "       'ham', 'ham', 'ham', 'ham', 'ham', 'ham', 'ham', 'ham', 'ham',\n",
       "       'ham', 'spam', 'ham', 'ham', 'ham', 'spam', 'ham', 'ham', 'ham',\n",
       "       'spam', 'ham', 'ham', 'ham', 'ham', 'ham', 'spam', 'spam', 'ham',\n",
       "       'ham', 'ham', 'ham', 'ham', 'ham', 'ham', 'ham', 'ham', 'ham',\n",
       "       'ham', 'spam', 'ham', 'ham', 'spam', 'ham', 'ham', 'ham', 'ham',\n",
       "       'spam', 'ham', 'ham', 'ham', 'ham', 'ham', 'ham', 'ham', 'spam',\n",
       "       'ham', 'ham', 'ham', 'ham', 'ham', 'ham', 'ham', 'spam', 'spam',\n",
       "       'ham', 'ham', 'ham', 'ham', 'spam', 'ham', 'ham', 'ham', 'ham',\n",
       "       'ham', 'ham', 'ham', 'ham', 'ham', 'ham', 'ham', 'ham', 'ham',\n",
       "       'ham', 'ham', 'ham', 'ham', 'ham', 'ham', 'ham', 'ham', 'ham',\n",
       "       'spam', 'ham', 'ham', 'ham', 'ham', 'ham', 'ham', 'spam', 'ham',\n",
       "       'ham', 'ham', 'ham', 'spam', 'ham', 'spam', 'ham', 'ham', 'spam',\n",
       "       'ham', 'ham', 'ham', 'ham', 'ham', 'ham', 'spam', 'ham', 'ham',\n",
       "       'ham', 'ham', 'ham', 'ham', 'ham', 'ham', 'ham', 'ham', 'spam',\n",
       "       'spam', 'ham', 'ham', 'ham', 'ham', 'ham', 'ham', 'ham', 'ham',\n",
       "       'ham', 'spam', 'ham', 'ham', 'ham', 'ham', 'ham', 'ham', 'ham',\n",
       "       'ham', 'ham', 'ham', 'ham', 'ham', 'ham', 'spam', 'ham', 'ham',\n",
       "       'ham', 'ham', 'ham', 'ham', 'ham', 'ham', 'ham', 'ham', 'ham',\n",
       "       'ham', 'ham', 'spam', 'ham', 'spam', 'ham', 'ham', 'ham', 'ham',\n",
       "       'ham', 'ham', 'spam', 'ham', 'ham', 'ham', 'ham', 'ham', 'ham',\n",
       "       'ham', 'ham', 'ham', 'ham', 'ham', 'ham', 'ham', 'ham', 'spam',\n",
       "       'ham', 'ham', 'ham', 'ham', 'spam', 'ham', 'ham', 'ham', 'ham',\n",
       "       'ham', 'ham', 'ham', 'ham', 'ham', 'ham', 'ham', 'ham', 'ham',\n",
       "       'ham', 'ham', 'ham', 'ham', 'ham', 'ham', 'ham', 'spam', 'ham',\n",
       "       'spam', 'ham', 'ham', 'spam', 'ham', 'ham', 'ham', 'ham', 'ham',\n",
       "       'spam', 'ham', 'ham', 'ham', 'ham', 'spam', 'ham', 'ham', 'ham',\n",
       "       'ham', 'ham', 'spam', 'ham', 'ham', 'ham', 'spam', 'spam', 'ham',\n",
       "       'ham', 'ham', 'ham', 'ham', 'ham', 'ham', 'ham', 'ham', 'ham',\n",
       "       'ham', 'ham', 'ham', 'ham', 'ham', 'ham', 'ham', 'ham', 'spam',\n",
       "       'spam', 'ham', 'spam', 'ham', 'ham', 'ham', 'ham', 'ham', 'ham',\n",
       "       'ham', 'ham', 'spam', 'ham', 'spam', 'ham', 'ham', 'ham', 'ham',\n",
       "       'ham', 'spam', 'ham', 'ham', 'ham', 'ham', 'ham', 'ham', 'ham',\n",
       "       'ham', 'ham', 'ham', 'ham', 'ham', 'ham', 'ham', 'ham', 'spam',\n",
       "       'spam', 'spam', 'ham', 'ham', 'ham', 'ham', 'ham', 'ham', 'ham',\n",
       "       'ham', 'ham', 'ham', 'spam', 'ham', 'ham', 'ham', 'ham', 'ham',\n",
       "       'spam', 'ham', 'ham', 'ham', 'ham', 'ham', 'ham', 'ham', 'ham',\n",
       "       'ham', 'spam', 'ham', 'ham', 'ham', 'ham', 'spam', 'ham', 'ham',\n",
       "       'ham', 'spam', 'ham', 'ham', 'ham', 'ham', 'ham', 'ham', 'ham',\n",
       "       'ham', 'ham', 'ham', 'ham', 'ham', 'ham', 'ham', 'ham', 'ham',\n",
       "       'ham', 'ham', 'ham', 'ham', 'ham', 'spam', 'ham', 'ham', 'ham',\n",
       "       'ham', 'ham', 'ham', 'ham', 'ham', 'ham', 'ham', 'ham', 'spam',\n",
       "       'ham', 'ham', 'ham', 'ham', 'ham', 'ham', 'ham', 'ham', 'ham',\n",
       "       'ham', 'ham', 'ham', 'ham', 'ham', 'ham', 'ham', 'ham', 'ham',\n",
       "       'ham', 'ham', 'spam', 'ham', 'ham', 'ham', 'ham', 'ham', 'ham',\n",
       "       'spam', 'ham', 'ham', 'ham', 'ham', 'ham', 'ham', 'ham', 'ham',\n",
       "       'ham', 'ham', 'ham', 'ham', 'ham', 'ham', 'ham', 'ham', 'spam',\n",
       "       'ham', 'ham', 'ham', 'ham', 'ham', 'spam', 'ham', 'ham', 'ham',\n",
       "       'ham', 'ham', 'spam', 'ham', 'ham', 'ham', 'ham', 'spam', 'ham',\n",
       "       'ham', 'ham', 'ham', 'ham', 'ham', 'spam', 'ham', 'spam', 'ham',\n",
       "       'ham', 'spam', 'ham', 'spam', 'ham', 'ham', 'spam', 'ham', 'ham',\n",
       "       'ham', 'ham', 'ham', 'ham', 'ham', 'ham', 'ham', 'ham', 'ham',\n",
       "       'ham', 'ham', 'ham', 'spam', 'ham', 'spam', 'ham', 'ham', 'ham',\n",
       "       'ham', 'ham', 'ham', 'ham', 'ham', 'ham', 'ham', 'ham', 'ham',\n",
       "       'ham', 'ham', 'ham', 'ham', 'ham', 'ham', 'ham', 'ham', 'ham',\n",
       "       'ham', 'ham', 'ham', 'ham', 'ham', 'ham', 'ham', 'spam', 'spam',\n",
       "       'ham', 'ham', 'ham', 'ham', 'ham', 'ham', 'ham', 'ham', 'ham',\n",
       "       'ham', 'ham', 'ham', 'ham', 'ham', 'ham', 'ham', 'spam', 'ham',\n",
       "       'ham', 'ham', 'ham', 'ham', 'ham', 'ham', 'ham', 'ham', 'ham',\n",
       "       'ham', 'spam', 'ham', 'ham', 'ham', 'ham', 'ham', 'ham', 'ham',\n",
       "       'spam', 'ham', 'ham', 'ham', 'ham', 'ham', 'ham', 'ham', 'ham',\n",
       "       'ham', 'ham', 'ham', 'ham', 'spam', 'ham', 'ham', 'spam', 'ham',\n",
       "       'ham', 'ham', 'ham', 'ham', 'ham', 'ham', 'ham', 'ham', 'ham',\n",
       "       'spam', 'ham', 'ham', 'ham', 'spam', 'ham', 'ham', 'ham', 'ham',\n",
       "       'ham', 'ham', 'ham', 'ham', 'ham', 'ham', 'ham', 'ham', 'ham',\n",
       "       'ham', 'ham', 'ham', 'ham', 'ham', 'ham', 'spam', 'ham', 'ham',\n",
       "       'ham', 'ham', 'ham', 'ham', 'ham', 'ham', 'ham', 'ham', 'ham',\n",
       "       'ham', 'spam', 'spam', 'ham', 'ham', 'ham', 'ham', 'ham', 'ham',\n",
       "       'ham', 'ham', 'ham', 'ham', 'ham', 'ham', 'ham', 'ham', 'ham',\n",
       "       'ham', 'ham', 'ham', 'spam', 'ham', 'spam', 'ham', 'ham', 'ham',\n",
       "       'ham', 'spam', 'ham', 'ham', 'ham', 'ham', 'ham', 'spam', 'ham',\n",
       "       'ham', 'ham', 'ham', 'ham', 'ham', 'ham', 'spam', 'ham', 'spam',\n",
       "       'ham', 'ham', 'ham', 'ham', 'ham', 'ham', 'ham', 'ham', 'ham',\n",
       "       'ham', 'ham', 'ham', 'ham', 'ham', 'spam', 'ham', 'spam', 'ham',\n",
       "       'ham', 'ham', 'ham', 'ham', 'ham', 'ham', 'ham', 'ham', 'ham',\n",
       "       'ham', 'ham', 'ham', 'ham', 'ham', 'ham', 'ham', 'ham', 'ham',\n",
       "       'ham', 'ham', 'spam', 'ham', 'ham', 'ham', 'ham', 'ham', 'ham',\n",
       "       'ham', 'ham', 'ham', 'spam', 'ham', 'ham', 'ham', 'ham', 'ham',\n",
       "       'ham', 'ham', 'spam', 'ham', 'ham', 'ham', 'ham', 'ham', 'ham',\n",
       "       'ham', 'ham', 'ham', 'ham', 'ham', 'ham', 'ham', 'ham', 'ham',\n",
       "       'ham', 'ham', 'ham', 'ham', 'ham', 'ham', 'ham', 'ham', 'spam',\n",
       "       'ham', 'spam', 'ham', 'ham', 'ham', 'spam', 'ham', 'ham', 'ham',\n",
       "       'ham', 'ham', 'ham', 'ham', 'spam', 'ham', 'ham', 'ham', 'ham',\n",
       "       'spam', 'ham', 'ham', 'ham', 'ham', 'spam', 'ham', 'ham', 'ham',\n",
       "       'ham', 'ham', 'ham', 'ham', 'ham', 'ham', 'ham', 'ham', 'ham',\n",
       "       'ham', 'ham', 'ham', 'ham', 'ham', 'ham', 'ham', 'ham', 'ham',\n",
       "       'ham', 'spam', 'ham', 'spam', 'ham', 'ham', 'ham', 'ham', 'ham',\n",
       "       'ham', 'ham', 'ham', 'ham', 'ham', 'ham', 'ham', 'ham', 'ham',\n",
       "       'ham', 'ham', 'ham', 'ham', 'ham', 'ham', 'ham', 'spam', 'ham',\n",
       "       'ham', 'ham', 'ham', 'ham', 'spam', 'ham', 'ham', 'ham', 'ham',\n",
       "       'ham', 'spam', 'ham', 'ham', 'ham', 'spam', 'ham', 'ham', 'ham',\n",
       "       'ham'], dtype=object)"
      ]
     },
     "execution_count": 73,
     "metadata": {},
     "output_type": "execute_result"
    }
   ],
   "source": [
    "y_pred_logreg"
   ]
  },
  {
   "cell_type": "code",
   "execution_count": 74,
   "metadata": {
    "ExecuteTime": {
     "end_time": "2020-02-01T09:58:34.218178Z",
     "start_time": "2020-02-01T09:58:34.087756Z"
    }
   },
   "outputs": [
    {
     "name": "stdout",
     "output_type": "stream",
     "text": [
      "F1 Score : 0.9772565166769963\n",
      "Report:\n",
      "               precision    recall  f1-score   support\n",
      "\n",
      "         ham       0.97      1.00      0.99       764\n",
      "        spam       0.99      0.84      0.91       128\n",
      "\n",
      "    accuracy                           0.98       892\n",
      "   macro avg       0.98      0.92      0.95       892\n",
      "weighted avg       0.98      0.98      0.98       892\n",
      "\n",
      "Confusion Matrix: \n",
      " [[763   1]\n",
      " [ 20 108]]\n"
     ]
    }
   ],
   "source": [
    "print(\"F1 Score :\",f1_score(y_pred_logreg,y_test,average = \"weighted\"))\n",
    "print('Report:\\n',classification_report(y_test, y_pred_logreg))\n",
    "print('Confusion Matrix: \\n',confusion_matrix(y_test, y_pred_logreg))"
   ]
  },
  {
   "cell_type": "code",
   "execution_count": 75,
   "metadata": {
    "ExecuteTime": {
     "end_time": "2020-02-01T09:58:35.395714Z",
     "start_time": "2020-02-01T09:58:35.3767Z"
    }
   },
   "outputs": [],
   "source": [
    "predicted_test = logreg_mod.predict(df_test)"
   ]
  },
  {
   "cell_type": "code",
   "execution_count": 76,
   "metadata": {
    "ExecuteTime": {
     "end_time": "2020-02-01T09:58:36.896761Z",
     "start_time": "2020-02-01T09:58:36.864737Z"
    }
   },
   "outputs": [],
   "source": [
    "test_predicted = pd.DataFrame()\n",
    "test_predicted['class_label'] = predicted_test\n",
    "test_predicted.to_csv('test_predicted_logisticRgrsn.csv',index=False)"
   ]
  }
 ],
 "metadata": {
  "kernelspec": {
   "display_name": "Python 3",
   "language": "python",
   "name": "python3"
  },
  "language_info": {
   "codemirror_mode": {
    "name": "ipython",
    "version": 3
   },
   "file_extension": ".py",
   "mimetype": "text/x-python",
   "name": "python",
   "nbconvert_exporter": "python",
   "pygments_lexer": "ipython3",
   "version": "3.7.6"
  }
 },
 "nbformat": 4,
 "nbformat_minor": 4
}
